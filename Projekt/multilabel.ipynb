{
 "cells": [
  {
   "cell_type": "code",
   "execution_count": 1,
   "id": "1da75e42-97d1-4f83-bb9c-2fcc00d322b4",
   "metadata": {},
   "outputs": [],
   "source": [
    "import numpy as np\n",
    "import matplotlib.pyplot as plt\n",
    "from sklearn.cluster import KMeans\n",
    "import torchvision.transforms as transforms\n",
    "import os\n",
    "import shutil\n",
    "import os\n",
    "from PIL import Image\n",
    "from torch.utils.data import Dataset\n",
    "import torchvision.datasets as datasets\n",
    "from torch.utils.data import DataLoader\n",
    "import random\n",
    "import torchvision.models as models\n",
    "import torch.nn as nn\n",
    "import torch\n",
    "import matplotlib.pyplot as plt\n",
    "import torch.optim as optim\n",
    "import cv2\n",
    "from PIL import Image\n",
    "from PIL import ImageOps\n",
    "from tqdm import tqdm"
   ]
  },
  {
   "cell_type": "code",
   "execution_count": 2,
   "id": "7509e71d-c8e1-406d-b9d9-d9970bbc23c5",
   "metadata": {},
   "outputs": [
    {
     "name": "stdout",
     "output_type": "stream",
     "text": [
      "64\n"
     ]
    }
   ],
   "source": [
    "import os\n",
    "\n",
    "print(os.cpu_count())\n"
   ]
  },
  {
   "cell_type": "code",
   "execution_count": 3,
   "id": "a19cd940-8ce2-4992-bbf0-fad480e1521d",
   "metadata": {},
   "outputs": [],
   "source": [
    "class ResizeByLongerSideWithRatio:\n",
    "    def __init__(self, size, fill_color=0):\n",
    "        self.size = size  # The fixed size for the longer side\n",
    "        self.fill_color = fill_color  # Padding color (default: black)\n",
    "\n",
    "    def __call__(self, image):\n",
    "        w, h = image.size  # Get original width and height\n",
    "        ratio = w/h\n",
    "        target_w, target_h = self.size\n",
    "        target_ratio = target_w/target_h\n",
    "        if target_ratio <= ratio:\n",
    "            # Scale height to maintain aspect ratio\n",
    "            new_w, new_h = target_w, int((h/w)*target_w)\n",
    "            padding_h = target_h-new_h\n",
    "            padding_w = 0\n",
    "        \n",
    "        else:\n",
    "            # Scale width to maintain aspect ratio\n",
    "            new_w, new_h = int((w/h)*target_h), target_h\n",
    "            padding_w = target_w - new_w\n",
    "            padding_h = 0\n",
    "        # Resize the image\n",
    "        \n",
    "        #image = self.binarize(image)\n",
    "        \n",
    "        image = image.resize((new_w, new_h))\n",
    "        \n",
    "        left = random.randint(0,padding_w)\n",
    "        top = random.randint(0,padding_h)\n",
    "        right = padding_w-left\n",
    "        bot = padding_h-top\n",
    "        padding = (left,top,right,bot)\n",
    "        \n",
    "        image = ImageOps.expand(image, border=padding, fill=self.fill_color)\n",
    "        return image\n",
    "    def binarize(self, image):\n",
    "        image = np.array(image)\n",
    "        image_gray = cv2.cvtColor(image,cv2.COLOR_BGR2GRAY)\n",
    "        \n",
    "        image_gray = cv2.medianBlur(image_gray,5)\n",
    "        image_gray = cv2.normalize(image_gray, None, alpha=0, beta=350, norm_type=cv2.NORM_MINMAX, dtype=cv2.CV_8U)\n",
    "        \n",
    "        BLOCK_SIZE = 11\n",
    "        CONSTANT = 10\n",
    "        \n",
    "        image = cv2.adaptiveThreshold(image_gray,255,cv2.ADAPTIVE_THRESH_MEAN_C, cv2.THRESH_BINARY,BLOCK_SIZE,CONSTANT)\n",
    "        image = Image.fromarray(image.astype(np.uint8))\n",
    "        \n",
    "        return image\n",
    "   "
   ]
  },
  {
   "cell_type": "code",
   "execution_count": 4,
   "id": "35fbbb3f-0b1f-4701-89d2-e56977f71920",
   "metadata": {},
   "outputs": [],
   "source": [
    "class ResizeByLongerSideWithRatioNoRandom:\n",
    "    def __init__(self, size, fill_color=0):\n",
    "        self.size = size  # The fixed size for the longer side\n",
    "        self.fill_color = fill_color  # Padding color (default: black)\n",
    "\n",
    "    def __call__(self, image):\n",
    "        w, h = image.size  # Get original width and height\n",
    "        ratio = w/h\n",
    "        target_w, target_h = self.size\n",
    "        target_ratio = target_w/target_h\n",
    "        if target_ratio <= ratio:\n",
    "            # Scale height to maintain aspect ratio\n",
    "            new_w, new_h = target_w, int((h/w)*target_w)\n",
    "            padding_h = target_h-new_h\n",
    "            padding_w = 0\n",
    "        \n",
    "        else:\n",
    "            # Scale width to maintain aspect ratio\n",
    "            new_w, new_h = int((w/h)*target_h), target_h\n",
    "            padding_w = target_w - new_w\n",
    "            padding_h = 0\n",
    "        # Resize the image\n",
    "        \n",
    "        #image = self.binarize(image)\n",
    "        \n",
    "        image = image.resize((new_w, new_h))\n",
    "        left = padding_w//2\n",
    "        top = padding_h//2\n",
    "        right = padding_w-left\n",
    "        bot = padding_h-top\n",
    "        padding = (left,top,right,bot)\n",
    "        \n",
    "        image = ImageOps.expand(image, border=padding, fill=self.fill_color)\n",
    "        return image\n",
    "    def binarize(self, image):\n",
    "        image = np.array(image)\n",
    "        image_gray = cv2.cvtColor(image,cv2.COLOR_BGR2GRAY)\n",
    "        \n",
    "        image_gray = cv2.medianBlur(image_gray,5)\n",
    "        image_gray = cv2.normalize(image_gray, None, alpha=0, beta=350, norm_type=cv2.NORM_MINMAX, dtype=cv2.CV_8U)\n",
    "        \n",
    "        BLOCK_SIZE = 11\n",
    "        CONSTANT = 10\n",
    "        \n",
    "        image = cv2.adaptiveThreshold(image_gray,255,cv2.ADAPTIVE_THRESH_MEAN_C, cv2.THRESH_BINARY,BLOCK_SIZE,CONSTANT)\n",
    "        image = Image.fromarray(image.astype(np.uint8))\n",
    "        \n",
    "        return image"
   ]
  },
  {
   "cell_type": "code",
   "execution_count": 5,
   "id": "9caf41dc-bfa4-40e9-bda5-22f3b9bb2286",
   "metadata": {},
   "outputs": [],
   "source": [
    "from torchvision import transforms\n",
    "from PIL import ImageOps\n",
    "\n",
    "class Invert:\n",
    "    def __call__(self, img):\n",
    "        return ImageOps.invert(img)\n",
    "\n"
   ]
  },
  {
   "cell_type": "code",
   "execution_count": 7,
   "id": "752cb931-4026-4159-9a32-6aba227e7cb7",
   "metadata": {},
   "outputs": [
    {
     "ename": "IndentationError",
     "evalue": "unindent does not match any outer indentation level (<tokenize>, line 58)",
     "output_type": "error",
     "traceback": [
      "  \u001b[36mFile \u001b[39m\u001b[32m<tokenize>:58\u001b[39m\n\u001b[31m    \u001b[39m\u001b[31msharpened = np.stack(sharpened_channels, axis=2)\u001b[39m\n    ^\n\u001b[31mIndentationError\u001b[39m\u001b[31m:\u001b[39m unindent does not match any outer indentation level\n"
     ]
    }
   ],
   "source": [
    "import cv2\n",
    "import numpy as np\n",
    "from PIL import Image\n",
    "from torchvision import transforms\n",
    "\n",
    "class LaplacianSharpen:\n",
    "    def __init__(self, amount=3):\n",
    "        self.amount = amount\n",
    "\n",
    "    def __call__(self, img):\n",
    "        img_np = np.array(img)\n",
    "\n",
    "        if img_np.ndim == 3 and img_np.shape[2] == 3:\n",
    "            sharpened_channels = []\n",
    "            for i in range(3):class SobelEdgeDetection:\n",
    "    def __init__(self):\n",
    "        # Define Sobel kernels for edge detection\n",
    "        self.kernel_x = torch.tensor([[-1., 0., 1.],\n",
    "                                      [-2., 0., 2.],\n",
    "                                      [-1., 0., 1.]]).view(1, 1, 3, 3)\n",
    "        self.kernel_y = torch.tensor([[-1., -2., -1.],\n",
    "                                      [ 0.,  0.,  0.],\n",
    "                                      [ 1.,  2.,  1.]]).view(1, 1, 3, 3)\n",
    "\n",
    "    def __call__(self, tensor):\n",
    "        # If RGB, convert to grayscale\n",
    "        if tensor.dim() == 3 and tensor.shape[0] == 3:\n",
    "            tensor = 0.2989 * tensor[0] + 0.5870 * tensor[1] + 0.1140 * tensor[2]\n",
    "            tensor = tensor.unsqueeze(0)  # [1, H, W]\n",
    "\n",
    "        tensor = tensor.unsqueeze(0)  # Add batch dimension: [1, 1, H, W]\n",
    "\n",
    "        # Reflective padding to preserve borders\n",
    "        tensor = F.pad(tensor, (1, 1, 1, 1), mode='reflect')\n",
    "\n",
    "        # Apply Sobel filters\n",
    "        edge_x = F.conv2d(tensor, self.kernel_x)\n",
    "        edge_y = F.conv2d(tensor, self.kernel_y)\n",
    "\n",
    "        # Compute gradient magnitude\n",
    "        edge = torch.sqrt(edge_x ** 2 + edge_y ** 2)\n",
    "\n",
    "        # Normalize to [0, 1]\n",
    "        edge = (edge - edge.min()) / (edge.max() - edge.min() + 1e-6)\n",
    "\n",
    "        # Remove batch dimension, keep channel: [1, H, W]\n",
    "        edge = edge.squeeze(0)\n",
    "\n",
    "        # Repeat the grayscale edge map into 3 channels: [3, H, W]\n",
    "        edge_rgb = edge.repeat(3, 1, 1)\n",
    "\n",
    "        return edge_rgb\n",
    "\n",
    "                lap = cv2.Laplacian(img_np[:, :, i], cv2.CV_64F)\n",
    "                sharp = img_np[:, :, i].astype(np.float64) + self.amount * lap\n",
    "                sharp = np.clip(sharp, 0, 255)\n",
    "                sharpened_channels.append(sharp.astype(np.uint8))\n",
    "            sharpened = np.stack(sharpened_channels, axis=2)\n",
    "        else:\n",
    "            laplacian = cv2.Laplacian(img_np, cv2.CV_64F)\n",
    "            sharpened = img_np.astype(np.float64) + self.amount * laplacian\n",
    "            sharpened = np.clip(sharpened, 0, 255).astype(np.uint8)\n",
    "\n",
    "        return Image.fromarray(sharpened)\n",
    "\n",
    "\n",
    "\n"
   ]
  },
  {
   "cell_type": "code",
   "execution_count": 8,
   "id": "991d8e08-9a38-4473-9ad3-c3e5e4cc5f27",
   "metadata": {},
   "outputs": [],
   "source": [
    "import torch\n",
    "import torch.nn.functional as F\n",
    "class SobelEdgeDetection:\n",
    "    def __init__(self):\n",
    "        # Define Sobel kernels for edge detection\n",
    "        self.kernel_x = torch.tensor([[-1., 0., 1.],\n",
    "                                      [-2., 0., 2.],\n",
    "                                      [-1., 0., 1.]]).view(1, 1, 3, 3)\n",
    "        self.kernel_y = torch.tensor([[-1., -2., -1.],\n",
    "                                      [ 0.,  0.,  0.],\n",
    "                                      [ 1.,  2.,  1.]]).view(1, 1, 3, 3)\n",
    "\n",
    "    def __call__(self, tensor):\n",
    "        # If RGB, convert to grayscale\n",
    "        if tensor.dim() == 3 and tensor.shape[0] == 3:\n",
    "            tensor = 0.2989 * tensor[0] + 0.5870 * tensor[1] + 0.1140 * tensor[2]\n",
    "            tensor = tensor.unsqueeze(0)  # [1, H, W]\n",
    "\n",
    "        tensor = tensor.unsqueeze(0)  # Add batch dimension: [1, 1, H, W]\n",
    "\n",
    "        # Reflective padding to preserve borders\n",
    "        tensor = F.pad(tensor, (1, 1, 1, 1), mode='reflect')\n",
    "\n",
    "        # Apply Sobel filters\n",
    "        edge_x = F.conv2d(tensor, self.kernel_x)\n",
    "        edge_y = F.conv2d(tensor, self.kernel_y)\n",
    "\n",
    "        # Compute gradient magnitude\n",
    "        edge = torch.sqrt(edge_x ** 2 + edge_y ** 2)\n",
    "\n",
    "        # Normalize to [0, 1]\n",
    "        edge = (edge - edge.min()) / (edge.max() - edge.min() + 1e-6)\n",
    "\n",
    "        # Remove batch dimension, keep channel: [1, H, W]\n",
    "        edge = edge.squeeze(0)\n",
    "\n",
    "        # Repeat the grayscale edge map into 3 channels: [3, H, W]\n",
    "        edge_rgb = edge.repeat(3, 1, 1)\n",
    "\n",
    "        return edge_rgb\n"
   ]
  },
  {
   "cell_type": "code",
   "execution_count": 9,
   "id": "13cd88e2-0341-483b-8f43-501c0a4718f7",
   "metadata": {},
   "outputs": [],
   "source": [
    "\n",
    "#from CustomTransforms import ResizeByLongerSideWithRatio\n",
    "train_transform = transforms.Compose([\n",
    "    #Invert(),\n",
    "    \n",
    "    ResizeByLongerSideWithRatioNoRandom(size=(224,224)),\n",
    "    \n",
    "    #LaplacianSharpen(),\n",
    "    #ResizeByLongerSideWithRatioNoRandom(size=(224,224)),# Resize based on longer side\n",
    "    transforms.ToTensor(),\n",
    "    #SobelEdgeDetection(),\n",
    "    #transforms.RandomApply([transforms.GaussianBlur(5)], p=0.3),\n",
    "    transforms.Normalize(mean=[0.5,0.5,0.5], std=[0.5,0.5,0.5]),  # Normalize\n",
    "    #transforms.Normalize(mean=[0.5], std=[0.5]),  # Normalize\n",
    "    #transforms.Lambda(lambda x: 1 - x)  # Invert pixel values in tensor\n",
    "    #transforms.Normalize(mean=[0.5], std=[0.5])  # Normalize\n",
    "])\n",
    "\n",
    "val_transform = transforms.Compose([\n",
    "    #Invert(),\n",
    "    #LaplacianSharpen(),\n",
    "    ResizeByLongerSideWithRatioNoRandom(size=(224,224)),# Resize based on longer side\n",
    "    \n",
    "    transforms.ToTensor(),\n",
    "    #SobelEdgeDetection(),\n",
    "    transforms.Normalize(mean=[0.5,0.5,0.5], std=[0.5,0.5,0.5]),  # Normalize\n",
    "    #transforms.Normalize(mean=[0.5], std=[0.5]),  # Normalize\n",
    "])"
   ]
  },
  {
   "cell_type": "code",
   "execution_count": 10,
   "id": "710ba158-ffb7-44e0-90ea-e7cf8cc1db06",
   "metadata": {},
   "outputs": [],
   "source": [
    "\n",
    "def remove_checkpoints(base_dir):\n",
    "    for root, dirs, _ in os.walk(base_dir):\n",
    "        for folder in dirs:\n",
    "            if folder == \".ipynb_checkpoints\":\n",
    "                folder_path = os.path.join(root, folder)\n",
    "                shutil.rmtree(folder_path)\n",
    "                print(f\"Removed: {folder_path}\")\n",
    "\n",
    "# Replace with your dataset directory\n",
    "data_dir = \"cross_out_dataset\"\n",
    "remove_checkpoints(data_dir)"
   ]
  },
  {
   "cell_type": "code",
   "execution_count": 11,
   "id": "6a54f62d-f99f-4f93-85b3-4e1692e618e9",
   "metadata": {},
   "outputs": [],
   "source": [
    "\n",
    "\n",
    "class FilteredImageFolder(Dataset):\n",
    "    def __init__(self, root, transform=None, min_size=20):\n",
    "        self.root_dir = root        \n",
    "        self.transform = transform\n",
    "        self.min_size = min_size\n",
    "        self.image_paths, self.labels = self._filter_and_label_images()\n",
    "\n",
    "    def _filter_and_label_images(self):\n",
    "        image_paths = []\n",
    "        labels = []\n",
    "        class_names = sorted(os.listdir(self.root_dir))  # Get folder names as labels\n",
    "        class_to_idx = {class_name: idx for idx, class_name in enumerate(class_names)}\n",
    "\n",
    "        for class_name in class_names:\n",
    "            class_dir = os.path.join(self.root_dir, class_name)\n",
    "            for filename in os.listdir(class_dir):\n",
    "                img_path = os.path.join(class_dir, filename)\n",
    "                try:\n",
    "                    img = Image.open(img_path)\n",
    "                    width, height = img.size\n",
    "                    if width >= self.min_size and height >= self.min_size:\n",
    "                        image_paths.append(img_path)\n",
    "                        labels.append(class_to_idx[class_name])  # Assign label based on folder\n",
    "                except:\n",
    "                    print(f\"Skipping corrupted file: {img_path}\")\n",
    "        print(class_to_idx)\n",
    "        return image_paths, labels\n",
    "\n",
    "    def __len__(self):\n",
    "        return len(self.image_paths)\n",
    "\n",
    "    def __getitem__(self, idx):\n",
    "        img_path = self.image_paths[idx]\n",
    "        label = self.labels[idx]\n",
    "        img = Image.open(img_path).convert(\"RGB\")\n",
    "        \n",
    "        if self.transform:\n",
    "            img = self.transform(img)\n",
    "\n",
    "        return img, label  # Returning (image, label) tuple"
   ]
  },
  {
   "cell_type": "code",
   "execution_count": 12,
   "id": "3ad8dc65-dee1-47d1-aa23-5fc321ae3380",
   "metadata": {},
   "outputs": [
    {
     "name": "stdout",
     "output_type": "stream",
     "text": [
      "Skipping corrupted file: cross_out_dataset/train/images/CLEAN/gt.txt\n",
      "{'CLEAN': 0, 'CROSS': 1, 'DIAGONAL': 2, 'DOUBLE_LINE': 3, 'SCRATCH': 4, 'SINGLE_LINE': 5, 'WAVE': 6, 'ZIG_ZAG': 7}\n",
      "Skipping corrupted file: cross_out_dataset/val/images/CLEAN/gt.txt\n",
      "{'CLEAN': 0, 'CROSS': 1, 'DIAGONAL': 2, 'DOUBLE_LINE': 3, 'SCRATCH': 4, 'SINGLE_LINE': 5, 'WAVE': 6, 'ZIG_ZAG': 7}\n",
      "Skipping corrupted file: cross_out_dataset/test/images/CLEAN/gt.txt\n",
      "Skipping corrupted file: cross_out_dataset/test/images/CROSS/gt.txt\n",
      "Skipping corrupted file: cross_out_dataset/test/images/DIAGONAL/gt.txt\n",
      "Skipping corrupted file: cross_out_dataset/test/images/DOUBLE_LINE/gt.txt\n",
      "Skipping corrupted file: cross_out_dataset/test/images/SCRATCH/gt.txt\n",
      "Skipping corrupted file: cross_out_dataset/test/images/SINGLE_LINE/gt.txt\n",
      "Skipping corrupted file: cross_out_dataset/test/images/WAVE/gt.txt\n",
      "Skipping corrupted file: cross_out_dataset/test/images/ZIG_ZAG/gt.txt\n",
      "{'CLEAN': 0, 'CROSS': 1, 'DIAGONAL': 2, 'DOUBLE_LINE': 3, 'SCRATCH': 4, 'SINGLE_LINE': 5, 'WAVE': 6, 'ZIG_ZAG': 7}\n"
     ]
    }
   ],
   "source": [
    "\n",
    "data_dir = \"cross_out_dataset\"  # Update this with your dataset path\n",
    "\n",
    "train_dataset = FilteredImageFolder(root=f\"{data_dir}/train/images\", transform=train_transform)\n",
    "val_dataset = FilteredImageFolder(root=f\"{data_dir}/val/images\", transform=val_transform)\n",
    "test_dataset = FilteredImageFolder(root=f\"{data_dir}/test/images\", transform=val_transform)\n"
   ]
  },
  {
   "cell_type": "code",
   "execution_count": 29,
   "id": "98a9e961-428a-4b7a-b458-c12f0ecca34c",
   "metadata": {},
   "outputs": [],
   "source": [
    "\n",
    "data_dir = \"Eget_test_set\"  # Update this with your dataset path\n",
    "\n",
    "train_dataset = datasets.ImageFolder(root=f\"{data_dir}\", transform=train_transform)\n",
    "val_dataset = datasets.ImageFolder(root=f\"{data_dir}\", transform=val_transform)\n",
    "test_dataset = datasets.ImageFolder(root=f\"{data_dir}\", transform=val_transform)\n"
   ]
  },
  {
   "cell_type": "code",
   "execution_count": 88,
   "id": "ca2acda7-0c99-4572-a31b-277cd3193e20",
   "metadata": {},
   "outputs": [
    {
     "data": {
      "text/plain": [
       "'\\nfrom PIL import Image\\n\\nfor root, _, files in os.walk(\"cross_out_dataset/val/images\"):\\n    for file in files:\\n        try:\\n            Image.open(os.path.join(root, file)).verify()\\n        except Exception as e:\\n            print(f\"Corrupted file: {file} - {e}\")\\n'"
      ]
     },
     "execution_count": 88,
     "metadata": {},
     "output_type": "execute_result"
    }
   ],
   "source": [
    "\"\"\"\n",
    "from PIL import Image\n",
    "\n",
    "for root, _, files in os.walk(\"cross_out_dataset/val/images\"):\n",
    "    for file in files:\n",
    "        try:\n",
    "            Image.open(os.path.join(root, file)).verify()\n",
    "        except Exception as e:\n",
    "            print(f\"Corrupted file: {file} - {e}\")\n",
    "\"\"\""
   ]
  },
  {
   "cell_type": "code",
   "execution_count": 29,
   "id": "6a065fb3-0d7b-450d-9938-a0375a436389",
   "metadata": {},
   "outputs": [
    {
     "ename": "AttributeError",
     "evalue": "'FilteredImageFolder' object has no attribute 'class_to_idx'",
     "output_type": "error",
     "traceback": [
      "\u001b[31m---------------------------------------------------------------------------\u001b[39m",
      "\u001b[31mAttributeError\u001b[39m                            Traceback (most recent call last)",
      "\u001b[36mCell\u001b[39m\u001b[36m \u001b[39m\u001b[32mIn[29]\u001b[39m\u001b[32m, line 1\u001b[39m\n\u001b[32m----> \u001b[39m\u001b[32m1\u001b[39m \u001b[38;5;28mprint\u001b[39m(\u001b[43mtest_dataset\u001b[49m\u001b[43m.\u001b[49m\u001b[43mclass_to_idx\u001b[49m.items())\n\u001b[32m      2\u001b[39m \u001b[38;5;28mprint\u001b[39m(val_dataset.classes)\n",
      "\u001b[31mAttributeError\u001b[39m: 'FilteredImageFolder' object has no attribute 'class_to_idx'"
     ]
    }
   ],
   "source": [
    "print(test_dataset.class_to_idx.items())\n",
    "print(val_dataset.classes)"
   ]
  },
  {
   "cell_type": "code",
   "execution_count": null,
   "id": "eeac579a-bd1a-47ff-b6b7-eaf7a1b72cf4",
   "metadata": {},
   "outputs": [],
   "source": []
  },
  {
   "cell_type": "code",
   "execution_count": 11,
   "id": "53d9c244-d13d-4f40-9bd6-c00d6177acce",
   "metadata": {},
   "outputs": [
    {
     "name": "stderr",
     "output_type": "stream",
     "text": [
      "\u001b[34m\u001b[1mwandb\u001b[0m: Using wandb-core as the SDK backend.  Please refer to https://wandb.me/wandb-core for more information.\n",
      "\u001b[34m\u001b[1mwandb\u001b[0m: Currently logged in as: \u001b[33mwilwoh-2\u001b[0m (\u001b[33mertveh-4-lule-university-of-technology\u001b[0m) to \u001b[32mhttps://api.wandb.ai\u001b[0m. Use \u001b[1m`wandb login --relogin`\u001b[0m to force relogin\n"
     ]
    },
    {
     "data": {
      "text/html": [
       "creating run (0.1s)"
      ],
      "text/plain": [
       "<IPython.core.display.HTML object>"
      ]
     },
     "metadata": {},
     "output_type": "display_data"
    },
    {
     "data": {
      "text/html": [
       "Tracking run with wandb version 0.19.9"
      ],
      "text/plain": [
       "<IPython.core.display.HTML object>"
      ]
     },
     "metadata": {},
     "output_type": "display_data"
    },
    {
     "data": {
      "text/html": [
       "Run data is saved locally in <code>/Project/wandb/run-20250519_143535-hgvvoifl</code>"
      ],
      "text/plain": [
       "<IPython.core.display.HTML object>"
      ]
     },
     "metadata": {},
     "output_type": "display_data"
    },
    {
     "data": {
      "text/html": [
       "Syncing run <strong><a href='https://wandb.ai/ertveh-4-lule-university-of-technology/Group_19_lab1/runs/hgvvoifl' target=\"_blank\">RESNET18_SHARP</a></strong> to <a href='https://wandb.ai/ertveh-4-lule-university-of-technology/Group_19_lab1' target=\"_blank\">Weights & Biases</a> (<a href='https://wandb.me/developer-guide' target=\"_blank\">docs</a>)<br>"
      ],
      "text/plain": [
       "<IPython.core.display.HTML object>"
      ]
     },
     "metadata": {},
     "output_type": "display_data"
    },
    {
     "data": {
      "text/html": [
       " View project at <a href='https://wandb.ai/ertveh-4-lule-university-of-technology/Group_19_lab1' target=\"_blank\">https://wandb.ai/ertveh-4-lule-university-of-technology/Group_19_lab1</a>"
      ],
      "text/plain": [
       "<IPython.core.display.HTML object>"
      ]
     },
     "metadata": {},
     "output_type": "display_data"
    },
    {
     "data": {
      "text/html": [
       " View run at <a href='https://wandb.ai/ertveh-4-lule-university-of-technology/Group_19_lab1/runs/hgvvoifl' target=\"_blank\">https://wandb.ai/ertveh-4-lule-university-of-technology/Group_19_lab1/runs/hgvvoifl</a>"
      ],
      "text/plain": [
       "<IPython.core.display.HTML object>"
      ]
     },
     "metadata": {},
     "output_type": "display_data"
    },
    {
     "data": {
      "text/html": [
       "<button onClick=\"this.nextSibling.style.display='block';this.style.display='none';\">Display W&B run</button><iframe src='https://wandb.ai/ertveh-4-lule-university-of-technology/Group_19_lab1/runs/hgvvoifl?jupyter=true' style='border:none;width:100%;height:420px;display:none;'></iframe>"
      ],
      "text/plain": [
       "<wandb.sdk.wandb_run.Run at 0x7f2496731a90>"
      ]
     },
     "execution_count": 11,
     "metadata": {},
     "output_type": "execute_result"
    }
   ],
   "source": [
    "import wandb\n",
    "wandb.init(project=\"Group_19_lab1\",name=\"RESNET18_SHARP\")\n"
   ]
  },
  {
   "cell_type": "code",
   "execution_count": 72,
   "id": "9e294e73-850d-46d6-9daa-b89457cde846",
   "metadata": {},
   "outputs": [
    {
     "name": "stdout",
     "output_type": "stream",
     "text": [
      "0\n",
      "torch.Size([3, 224, 224])\n"
     ]
    },
    {
     "data": {
      "image/png": "[encoded data removed]",
      "text/plain": [
       "<Figure size 640x480 with 1 Axes>"
      ]
     },
     "metadata": {},
     "output_type": "display_data"
    }
   ],
   "source": [
    "# Access one image and its label from the dataset\n",
    "\n",
    "#i = random.randint(0,1000)\n",
    "\n",
    "i = 100\n",
    "\n",
    "image, label = train_dataset[i]  # Get the first image-label pair\n",
    "print(label)\n",
    "print(image.shape)\n",
    "# Denormalize the image for visualization (convert back to [0,1] range)\n",
    "image = image * 0.5 + 0.5  # Reverse normalization\n",
    "\n",
    "# Display the image\n",
    "plt.imshow(image.permute(1, 2, 0))  # Permute tensor dimensions (C, H, W → H, W, C)\n",
    "plt.axis(\"off\")  # Turn off axes for clarity\n",
    "plt.show()"
   ]
  },
  {
   "cell_type": "code",
   "execution_count": 13,
   "id": "6127d94b-5ecc-4637-a763-d948b0d3d992",
   "metadata": {},
   "outputs": [
    {
     "name": "stdout",
     "output_type": "stream",
     "text": [
      "Train: 353482, Validation: 55033, Test: 151032\n"
     ]
    }
   ],
   "source": [
    "BATCH_SIZE = 64\n",
    "# Create data loaders\n",
    "train_loader = DataLoader(train_dataset, batch_size=BATCH_SIZE, shuffle=True, num_workers = 8)\n",
    "val_loader = DataLoader(val_dataset, batch_size=BATCH_SIZE, shuffle=False, num_workers = 8)\n",
    "test_loader = DataLoader(test_dataset, batch_size=BATCH_SIZE, shuffle=False, num_workers = 8)\n",
    "\n",
    "print(f\"Train: {len(train_dataset)}, Validation: {len(val_dataset)}, Test: {len(test_dataset)}\")"
   ]
  },
  {
   "cell_type": "code",
   "execution_count": 16,
   "id": "243a8bb0-fd32-4d7e-b8c7-a925133af01d",
   "metadata": {},
   "outputs": [],
   "source": [
    "import torch\n",
    "import torch.nn as nn\n",
    "import torch.nn.functional as F\n",
    "\n",
    "class BasicBlock(nn.Module):\n",
    "    def __init__(self, in_channels, out_channels, downsample=False):\n",
    "        super(BasicBlock, self).__init__()\n",
    "        stride = 2 if downsample else 1\n",
    "\n",
    "        self.conv1 = nn.Conv2d(in_channels, out_channels, kernel_size=3, stride=stride,\n",
    "                               padding=1, bias=False)\n",
    "        self.bn1 = nn.BatchNorm2d(out_channels)\n",
    "        self.conv2 = nn.Conv2d(out_channels, out_channels, kernel_size=3, stride=1,\n",
    "                               padding=1, bias=False)\n",
    "        self.bn2 = nn.BatchNorm2d(out_channels)\n",
    "\n",
    "        self.shortcut = nn.Sequential()\n",
    "        if downsample or in_channels != out_channels:\n",
    "            self.shortcut = nn.Sequential(\n",
    "                nn.Conv2d(in_channels, out_channels, kernel_size=1, stride=stride, bias=False),\n",
    "                nn.BatchNorm2d(out_channels)\n",
    "            )\n",
    "\n",
    "    def forward(self, x):\n",
    "        out = F.relu(self.bn1(self.conv1(x)))\n",
    "        out = self.bn2(self.conv2(out))\n",
    "        out += self.shortcut(x)\n",
    "        return F.relu(out)\n",
    "\n",
    "\n",
    "class ResNet6(nn.Module):\n",
    "    def __init__(self, num_classes=10):\n",
    "        super(ResNet6, self).__init__()\n",
    "        self.conv1 = nn.Conv2d(3, 64, kernel_size=7, stride=2, padding=3, bias=False)\n",
    "        self.bn1 = nn.BatchNorm2d(64)\n",
    "        self.relu = nn.ReLU(inplace=True)\n",
    "        self.maxpool = nn.MaxPool2d(kernel_size=3, stride=2, padding=1)\n",
    "\n",
    "        self.layer1 = BasicBlock(64, 128, downsample=True)\n",
    "        self.layer2 = BasicBlock(128, 256, downsample=True)\n",
    "        #self.layer3 = BasicBlock(256, 256, downsample=True)\n",
    "\n",
    "        self.avgpool = nn.AdaptiveAvgPool2d((1, 1))\n",
    "        self.fc = nn.Linear(256, num_classes)\n",
    "\n",
    "    def forward(self, x):\n",
    "        x = self.relu(self.bn1(self.conv1(x)))  # [batch, 64, 112, 112]\n",
    "        x = self.maxpool(x)                     # [batch, 64, 56, 56]\n",
    "        x = self.layer1(x)                      # [batch, 128, 28, 28]\n",
    "        x = self.layer2(x)                      # [batch, 256, 14, 14]\n",
    "        #x = self.layer3(x)\n",
    "        x = self.avgpool(x)                     # [batch, 256, 1, 1]\n",
    "        x = torch.flatten(x, 1)\n",
    "        x = self.fc(x)                          # [batch, num_classes]\n",
    "        return x\n",
    "\n",
    "model = ResNet6(num_classes=8)"
   ]
  },
  {
   "cell_type": "code",
   "execution_count": 23,
   "id": "b428b350-ef7a-4396-8cbb-a29427d18304",
   "metadata": {},
   "outputs": [],
   "source": [
    "\n",
    "# Load ResNet18 pretrained model\n",
    "model = models.resnet18(pretrained=True)\n",
    "\n",
    "# Modify the fully connected layer for 8 classes\n",
    "num_classes = 8\n",
    "model.fc = torch.nn.Linear(model.fc.in_features, num_classes)\n",
    "\n",
    "# Check the model architecture\n",
    "\n",
    "# Modify the first convolutional layer to accept single-channel input\n",
    "#model.conv1 = nn.Conv2d(1, 64, kernel_size=7, stride=2, padding=3, bias=False)\n",
    "#model = replace_all_conv_layers(model)\n",
    "#model.conv1 = nn.Conv2d(3, 64, kernel_size=(3,7), stride=(1,2), padding=(1,3), bias=False)\n",
    "#model.maxpool = nn.AvgPool2d(kernel_size=2, stride=2)\n",
    "#model.maxpool = nn.AvgPool2d(2,2)"
   ]
  },
  {
   "cell_type": "code",
   "execution_count": null,
   "id": "39d58601-a897-4d4c-af45-58bc2e362ce9",
   "metadata": {},
   "outputs": [],
   "source": []
  },
  {
   "cell_type": "code",
   "execution_count": 15,
   "id": "bf2d8149-3b6e-481a-8f98-1fd5a92be33b",
   "metadata": {},
   "outputs": [
    {
     "name": "stdout",
     "output_type": "stream",
     "text": [
      "True\n"
     ]
    }
   ],
   "source": [
    "import torch\n",
    "print(torch.cuda.is_available())  # Returns True if a GPU is available\n",
    "# Specify the device (GPU or CPU)\n",
    "device = torch.device(\"cuda\" if torch.cuda.is_available() else \"cpu\")\n",
    "\n",
    "# Move your model to the device\n",
    "model = model.to(device)"
   ]
  },
  {
   "cell_type": "code",
   "execution_count": null,
   "id": "5fac2855-ec92-4f0f-b929-8c483e31ef32",
   "metadata": {},
   "outputs": [],
   "source": []
  },
  {
   "cell_type": "code",
   "execution_count": null,
   "id": "7b7f8938-dfe4-4418-8dc1-bd03fdc6630a",
   "metadata": {},
   "outputs": [],
   "source": []
  },
  {
   "cell_type": "code",
   "execution_count": 17,
   "id": "f34df774-6b3c-43c9-8920-afab1eee5e3f",
   "metadata": {},
   "outputs": [],
   "source": [
    "\n",
    "\n",
    "criterion = nn.CrossEntropyLoss()\n",
    "optimizer = optim.AdamW(model.parameters(), lr=1e-3)\n",
    "#optimizer = optim.SGD(model.parameters(), lr=0.1, momentum=0.9, weight_decay=1e-4)"
   ]
  },
  {
   "cell_type": "code",
   "execution_count": 25,
   "id": "5648ce78-4882-4521-855d-ccfaad8e42d9",
   "metadata": {},
   "outputs": [
    {
     "name": "stderr",
     "output_type": "stream",
     "text": [
      "100%|██████████| 5524/5524 [07:34<00:00, 12.16it/s]\n"
     ]
    },
    {
     "name": "stdout",
     "output_type": "stream",
     "text": [
      "Epoch:  0 Train loss:  2.197420693863828 Val loss:  2.192183162168015\n",
      "\n",
      "Current lr:  0.0002800262699769715\n"
     ]
    },
    {
     "name": "stderr",
     "output_type": "stream",
     "text": [
      "100%|██████████| 5524/5524 [07:27<00:00, 12.33it/s]\n"
     ]
    },
    {
     "name": "stdout",
     "output_type": "stream",
     "text": [
      "Epoch:  1 Train loss:  2.1974082809052202 Val loss:  2.196227108323297\n",
      "\n",
      "Current lr:  0.0007600525370784775\n"
     ]
    },
    {
     "name": "stderr",
     "output_type": "stream",
     "text": [
      "100%|██████████| 5524/5524 [07:32<00:00, 12.21it/s]\n"
     ]
    },
    {
     "name": "stdout",
     "output_type": "stream",
     "text": [
      "Epoch:  2 Train loss:  2.1979368543771622 Val loss:  2.194316920430161\n",
      "\n",
      "Current lr:  0.0009999999983498075\n"
     ]
    },
    {
     "name": "stderr",
     "output_type": "stream",
     "text": [
      "100%|██████████| 5524/5524 [07:21<00:00, 12.50it/s]\n"
     ]
    },
    {
     "name": "stdout",
     "output_type": "stream",
     "text": [
      "Epoch:  3 Train loss:  2.197394131750926 Val loss:  2.1986023069814196\n",
      "\n",
      "Current lr:  0.0009504670050933527\n"
     ]
    },
    {
     "name": "stderr",
     "output_type": "stream",
     "text": [
      "100%|██████████| 5524/5524 [07:21<00:00, 12.53it/s]\n"
     ]
    },
    {
     "name": "stdout",
     "output_type": "stream",
     "text": [
      "Epoch:  4 Train loss:  2.198175475853755 Val loss:  2.1977156417314396\n",
      "\n",
      "Current lr:  0.0008117138929874233\n"
     ]
    },
    {
     "name": "stderr",
     "output_type": "stream",
     "text": [
      "100%|██████████| 5524/5524 [07:34<00:00, 12.16it/s]\n"
     ]
    },
    {
     "name": "stdout",
     "output_type": "stream",
     "text": [
      "Epoch:  5 Train loss:  2.1980386347031784 Val loss:  2.192699054091476\n",
      "\n",
      "Current lr:  0.0006112224175798449\n"
     ]
    },
    {
     "name": "stderr",
     "output_type": "stream",
     "text": [
      "100%|██████████| 5524/5524 [07:16<00:00, 12.67it/s]\n"
     ]
    },
    {
     "name": "stdout",
     "output_type": "stream",
     "text": [
      "Epoch:  6 Train loss:  2.197273732742307 Val loss:  2.190273941256279\n",
      "\n",
      "Current lr:  0.0003887023744416711\n"
     ]
    },
    {
     "name": "stderr",
     "output_type": "stream",
     "text": [
      "100%|██████████| 5524/5524 [07:19<00:00, 12.56it/s]\n"
     ]
    },
    {
     "name": "stdout",
     "output_type": "stream",
     "text": [
      "Epoch:  7 Train loss:  2.1974043605726408 Val loss:  2.1978413095307903\n",
      "\n",
      "Current lr:  0.0001882265871456536\n"
     ]
    },
    {
     "name": "stderr",
     "output_type": "stream",
     "text": [
      "100%|██████████| 5524/5524 [07:34<00:00, 12.17it/s]\n"
     ]
    },
    {
     "name": "stdout",
     "output_type": "stream",
     "text": [
      "Epoch:  8 Train loss:  2.198707094061297 Val loss:  2.1924139355504235\n",
      "\n",
      "Current lr:  4.950174403994924e-05\n"
     ]
    },
    {
     "name": "stderr",
     "output_type": "stream",
     "text": [
      "100%|██████████| 5524/5524 [07:21<00:00, 12.52it/s]\n"
     ]
    },
    {
     "name": "stdout",
     "output_type": "stream",
     "text": [
      "Epoch:  9 Train loss:  2.197564846272921 Val loss:  2.192196538281995\n",
      "\n",
      "Current lr:  4.00165019243218e-09\n"
     ]
    }
   ],
   "source": [
    "epochs = 10\n",
    "scheduler = torch.optim.lr_scheduler.OneCycleLR(\n",
    "    optimizer, \n",
    "    max_lr=1e-3,\n",
    "    steps_per_epoch=len(train_loader),\n",
    "    epochs=epochs\n",
    ")\n",
    "\n",
    "\n",
    "for epoch in range(epochs):\n",
    "    tot_train_loss = 0\n",
    "    tot_val_loss = 0\n",
    "\n",
    "    model.train()\n",
    "    batch_id = 0\n",
    "    best_val_loss = 100000\n",
    "    for batch in tqdm(train_loader):\n",
    "        \n",
    "        \n",
    "        inp = batch[0].to(device)\n",
    "        label = batch[1].to(device)\n",
    "        output = model(inp)\n",
    "\n",
    "        loss = criterion(output,label)\n",
    "        tot_train_loss += loss.item()\n",
    "        \n",
    "        optimizer.zero_grad()\n",
    "        loss.backward()\n",
    "\n",
    "        optimizer.step()\n",
    "        scheduler.step()\n",
    "        \n",
    "    model.eval()\n",
    "    total_samples = 0\n",
    "    batch_id = 0\n",
    "    for batch in val_loader:\n",
    "        optimizer.zero_grad()\n",
    "\n",
    "        inp = batch[0].to(device)\n",
    "        label = batch[1].to(device)\n",
    "        output = model(inp)\n",
    "\n",
    "        loss = criterion(output,label)\n",
    "        tot_val_loss += loss.item()\n",
    "        \n",
    "    avg_train_loss = tot_train_loss/len(train_loader)\n",
    "    avg_val_loss = tot_val_loss/len(val_loader)\n",
    "    print(\"Epoch: \",epoch,\"Train loss: \",avg_train_loss,\"Val loss: \",avg_val_loss)\n",
    "    if avg_val_loss < best_val_loss:\n",
    "        best_model = model\n",
    "        best_val_loss = avg_val_loss\n",
    "    print()\n",
    "    current_lr = optimizer.param_groups[0]['lr']\n",
    "    print(\"Current lr: \", current_lr)\n",
    "    wandb.log({\n",
    "        \"train_loss\":avg_train_loss,\n",
    "        \"val_loss\":avg_val_loss,\n",
    "        \"lr\": current_lr\n",
    "    })\n",
    "    torch.cuda.empty_cache()"
   ]
  },
  {
   "cell_type": "code",
   "execution_count": 27,
   "id": "a3eecc92-268b-4d87-8b81-e063c3f77c82",
   "metadata": {},
   "outputs": [],
   "source": [
    "torch.save(best_model, \"RESNET18_SHARP.pth\")"
   ]
  },
  {
   "cell_type": "code",
   "execution_count": 14,
   "id": "5083afce-43ce-4368-a02c-7a17bad5df93",
   "metadata": {},
   "outputs": [],
   "source": [
    "model = torch.load(\n",
    "    \"Baseline_ResNet18_20x20.pth\",\n",
    "    weights_only = False\n",
    ")\n"
   ]
  },
  {
   "cell_type": "code",
   "execution_count": null,
   "id": "d1877923-ff1a-46b6-af20-010a21f42894",
   "metadata": {},
   "outputs": [],
   "source": []
  },
  {
   "cell_type": "code",
   "execution_count": 34,
   "id": "330f40e9-8351-48c2-abb1-a060d0bf3fd2",
   "metadata": {},
   "outputs": [
    {
     "name": "stdout",
     "output_type": "stream",
     "text": [
      "55033\n",
      "5524\n"
     ]
    },
    {
     "name": "stderr",
     "output_type": "stream",
     "text": [
      "100%|██████████| 2360/2360 [01:31<00:00, 25.72it/s]"
     ]
    },
    {
     "name": "stdout",
     "output_type": "stream",
     "text": [
      "Acc:  0.9946898670480429\n"
     ]
    },
    {
     "name": "stderr",
     "output_type": "stream",
     "text": [
      "\n"
     ]
    }
   ],
   "source": [
    "import torch\n",
    "\n",
    "total = 0\n",
    "correct = 0\n",
    "wrong_guess = []\n",
    "correct_label = []\n",
    "missed_image = []\n",
    "\n",
    "model.eval()\n",
    "print(len(val_dataset))\n",
    "print(len(train_loader))\n",
    "tot_val_loss = 0\n",
    "\n",
    "with torch.no_grad():\n",
    "    for batch in tqdm(test_loader):\n",
    "        input_ids = batch[0].to(device)  # Move input_ids to GPU/CPU\n",
    "        labels = batch[1].to(device)  # Move labels to GPU/CPU\n",
    "        output = model(input_ids)\n",
    "\n",
    "        for i in range(len(output)):\n",
    "            o = torch.argmax(output[i]).item()\n",
    "            label = labels[i].item()\n",
    "            total += 1\n",
    "\n",
    "            if o == label:\n",
    "                correct += 1\n",
    "            else:\n",
    "                # Move tensor to CPU and convert to a numpy array if necessary\n",
    "                if len(missed_image) < 500:  # Limit memory usage\n",
    "                    missed_image.append(input_ids[i].cpu())  \n",
    "                    wrong_guess.append(o)\n",
    "                    correct_label.append(label)\n",
    "\n",
    "print(\"Acc: \", correct / total)"
   ]
  },
  {
   "cell_type": "code",
   "execution_count": 44,
   "id": "c86a36c3-86f5-4895-a957-de2ea6d8116c",
   "metadata": {
    "scrolled": true
   },
   "outputs": [
    {
     "name": "stderr",
     "output_type": "stream",
     "text": [
      "Clipping input data to the valid range for imshow with RGB data ([0..1] for floats or [0..255] for integers). Got range [-1.0..1.0].\n",
      "Clipping input data to the valid range for imshow with RGB data ([0..1] for floats or [0..255] for integers). Got range [-1.0..1.0].\n",
      "Clipping input data to the valid range for imshow with RGB data ([0..1] for floats or [0..255] for integers). Got range [-1.0..1.0].\n",
      "Clipping input data to the valid range for imshow with RGB data ([0..1] for floats or [0..255] for integers). Got range [-1.0..1.0].\n",
      "Clipping input data to the valid range for imshow with RGB data ([0..1] for floats or [0..255] for integers). Got range [-1.0..1.0].\n",
      "Clipping input data to the valid range for imshow with RGB data ([0..1] for floats or [0..255] for integers). Got range [-1.0..1.0].\n",
      "Clipping input data to the valid range for imshow with RGB data ([0..1] for floats or [0..255] for integers). Got range [-1.0..1.0].\n",
      "Clipping input data to the valid range for imshow with RGB data ([0..1] for floats or [0..255] for integers). Got range [-1.0..1.0].\n",
      "Clipping input data to the valid range for imshow with RGB data ([0..1] for floats or [0..255] for integers). Got range [-1.0..1.0].\n",
      "Clipping input data to the valid range for imshow with RGB data ([0..1] for floats or [0..255] for integers). Got range [-1.0..1.0].\n"
     ]
    },
    {
     "data": {
      "image/png": "[encoded data removed]",
      "text/plain": [
       "<Figure size 1000x400 with 10 Axes>"
      ]
     },
     "metadata": {},
     "output_type": "display_data"
    }
   ],
   "source": [
    "import matplotlib.pyplot as plt\n",
    "import random\n",
    "import torch\n",
    "\n",
    "# Example: List of image tensors (assuming each tensor is of shape [3, H, W])\n",
    "\n",
    "image_and_label = tuple(zip(missed_image,wrong_guess,correct_label))\n",
    "# Select 10 random images\n",
    "\n",
    "random_images = random.sample(image_and_label, 10)\n",
    "classes = [\"CLEAN\",\"CROSS\",\"DIAGONAL\",\"DOUBLE_LINE\",\"SCRATCH\",\"SINGLE_LINE\",\"WAVE\",\"ZIG_ZAG\"]\n",
    "# Plot images\n",
    "fig, axes = plt.subplots(2, 5, figsize=(10, 4))\n",
    "for i, img_label in enumerate(random_images):\n",
    "    img, guess, label = img_label\n",
    "    ax = axes[i // 5, i % 5]\n",
    "    ax.imshow(img.permute(1, 2, 0))  # Convert (C, H, W) to (H, W, C) for visualization\n",
    "    ax.set_title(f\"True: {classes[label]} \\n Pred: {classes[guess]}\", fontsize=12)\n",
    "    ax.axis(\"off\")  # Hide axes\n",
    "    \n",
    "\n",
    "plt.tight_layout()\n",
    "plt.show()"
   ]
  },
  {
   "cell_type": "code",
   "execution_count": 41,
   "id": "da61dbdd-f10a-4506-a3e2-0cc39f2ff582",
   "metadata": {},
   "outputs": [
    {
     "name": "stdout",
     "output_type": "stream",
     "text": [
      "Using device: cuda\n"
     ]
    },
    {
     "name": "stderr",
     "output_type": "stream",
     "text": [
      "Evaluating: 100%|██████████| 2360/2360 [01:52<00:00, 20.92batch/s]\n"
     ]
    },
    {
     "name": "stdout",
     "output_type": "stream",
     "text": [
      "\n",
      "Total Accuracy: 99.47%\n",
      "\n",
      "Confusion Matrix (% per true class):\n",
      "           Pred_0     Pred_1     Pred_2     Pred_3     Pred_4     Pred_5     Pred_6     Pred_7\n",
      "True_0  99.980003   0.000000   0.000000   0.000000   0.000000   0.000000   0.000000   0.000000\n",
      "True_1   0.000000  99.730003   0.110000   0.100000   0.010000   0.050000   0.000000   0.010000\n",
      "True_2   0.000000   0.080000  99.739998   0.010000   0.010000   0.140000   0.010000   0.020000\n",
      "True_3   0.000000   0.050000   0.010000  99.769997   0.010000   0.150000   0.010000   0.000000\n",
      "True_4   0.020000   0.010000   0.000000   0.020000  99.910004   0.000000   0.010000   0.050000\n",
      "True_5   0.010000   0.100000   0.070000   0.270000   0.010000  99.519997   0.010000   0.020000\n",
      "True_6   0.010000   0.010000   0.000000   0.010000   0.000000   0.040000  98.309998   1.630000\n",
      "True_7   0.010000   0.010000   0.030000   0.020000   0.000000   0.060000   1.230000  98.650002\n"
     ]
    },
    {
     "ename": "AttributeError",
     "evalue": "'list' object has no attribute 'to_string'",
     "output_type": "error",
     "traceback": [
      "\u001b[31m---------------------------------------------------------------------------\u001b[39m",
      "\u001b[31mAttributeError\u001b[39m                            Traceback (most recent call last)",
      "\u001b[36mCell\u001b[39m\u001b[36m \u001b[39m\u001b[32mIn[41]\u001b[39m\u001b[32m, line 60\u001b[39m\n\u001b[32m     58\u001b[39m \u001b[38;5;28mprint\u001b[39m(\u001b[33m\"\u001b[39m\u001b[33mConfusion Matrix (\u001b[39m\u001b[33m%\u001b[39m\u001b[33m per true class):\u001b[39m\u001b[33m\"\u001b[39m)\n\u001b[32m     59\u001b[39m \u001b[38;5;28mprint\u001b[39m(df.to_string())\n\u001b[32m---> \u001b[39m\u001b[32m60\u001b[39m \u001b[38;5;28mprint\u001b[39m(\u001b[43mconf_matrix\u001b[49m\u001b[43m.\u001b[49m\u001b[43mtolist\u001b[49m\u001b[43m(\u001b[49m\u001b[43m)\u001b[49m\u001b[43m.\u001b[49m\u001b[43mto_string\u001b[49m())\n\u001b[32m     62\u001b[39m \u001b[38;5;66;03m# --------------------------\u001b[39;00m\n\u001b[32m     63\u001b[39m \u001b[38;5;66;03m# Compute Macro F1 Score\u001b[39;00m\n\u001b[32m     64\u001b[39m \u001b[38;5;66;03m# --------------------------\u001b[39;00m\n\u001b[32m     66\u001b[39m TP = conf_matrix_cpu.diag()\n",
      "\u001b[31mAttributeError\u001b[39m: 'list' object has no attribute 'to_string'"
     ]
    }
   ],
   "source": [
    "import torch\n",
    "import pandas as pd\n",
    "from tqdm import tqdm\n",
    "from torch.utils.data import DataLoader\n",
    "\n",
    "# Detect device\n",
    "device = torch.device(\"cuda\" if torch.cuda.is_available() else \"cpu\")\n",
    "print(f\"Using device: {device}\")\n",
    "\n",
    "# Load model safely\n",
    "model = torch.load(\n",
    "    \"Baseline_ResNet18_20x20.pth\",\n",
    "    map_location=device,\n",
    "    weights_only=False\n",
    ")\n",
    "model.to(device)\n",
    "model.eval()\n",
    "\n",
    "num_classes = 8\n",
    "# Initialize confusion matrix\n",
    "conf_matrix = torch.zeros(num_classes, num_classes, device=device)\n",
    "total = 0\n",
    "correct = 0\n",
    "\n",
    "with torch.no_grad():\n",
    "    for batch in tqdm(test_loader, desc=\"Evaluating\", unit=\"batch\"):\n",
    "        inputs, labels = batch\n",
    "        inputs, labels = inputs.to(device, non_blocking=True), labels.to(device, non_blocking=True)\n",
    "        outputs = model(inputs)\n",
    "        preds = torch.argmax(outputs, dim=1)\n",
    "\n",
    "        for t, p in zip(labels, preds):\n",
    "            if t < num_classes and p < num_classes:\n",
    "                conf_matrix[t, p] += 1\n",
    "                if t == p:\n",
    "                    correct += 1\n",
    "            total += 1\n",
    "\n",
    "# Calculate overall accuracy\n",
    "total_accuracy = 100 * correct / total\n",
    "print(f\"\\nTotal Accuracy: {total_accuracy:.2f}%\\n\")\n",
    "\n",
    "# Convert confusion matrix to % per class\n",
    "conf_matrix_cpu = conf_matrix.to(\"cpu\")\n",
    "conf_percent = conf_matrix_cpu.clone()\n",
    "for i in range(num_classes):\n",
    "    row_sum = conf_percent[i].sum()\n",
    "    if row_sum > 0:\n",
    "        conf_percent[i] = conf_percent[i] / row_sum * 100\n",
    "\n",
    "# Create and format the confusion DataFrame\n",
    "columns = [f\"Pred_{i}\" for i in range(num_classes)]\n",
    "index = [f\"True_{i}\" for i in range(num_classes)]\n",
    "df = pd.DataFrame(conf_percent.numpy(), index=index, columns=columns)\n",
    "df = df.round(2)\n",
    "\n",
    "# Show results\n",
    "print(\"Confusion Matrix (% per true class):\")\n",
    "print(df.to_string())\n",
    "print(conf_matrix.tolist().to_string())\n",
    "\n",
    "# --------------------------\n",
    "# Compute Macro F1 Score\n",
    "# --------------------------\n",
    "\n",
    "TP = conf_matrix_cpu.diag()\n",
    "FP = conf_matrix_cpu.sum(dim=0) - TP\n",
    "FN = conf_matrix_cpu.sum(dim=1) - TP\n",
    "\n",
    "# Avoid division by zero\n",
    "precision = TP / (TP + FP + 1e-8)\n",
    "recall = TP / (TP + FN + 1e-8)\n",
    "f1 = 2 * (precision * recall) / (precision + recall + 1e-8)\n",
    "\n",
    "macro_f1 = f1.mean().item() * 100  # Multiply by 100 for %\n",
    "print(f\"\\nMacro F1 Score: {macro_f1:.2f}%\")\n"
   ]
  },
  {
   "cell_type": "code",
   "execution_count": 44,
   "id": "dd11458e-ab66-4112-86d7-6d9df733de9f",
   "metadata": {},
   "outputs": [
    {
     "name": "stdout",
     "output_type": "stream",
     "text": [
      "        Pred_0  Pred_1  Pred_2  Pred_3  Pred_4  Pred_5  Pred_6  Pred_7\n",
      "True_0   23187       0       0       1       1       1       1       0\n",
      "True_1       0   18213      20      18       1      10       0       1\n",
      "True_2       0      14   18216       2       1      26       1       3\n",
      "True_3       0       9       1   18221       2      28       2       0\n",
      "True_4       3       1       0       3   18246       0       1       9\n",
      "True_5       1      19      12      49       1   18176       1       4\n",
      "True_6       2       1       0       1       0       7   17955     297\n",
      "True_7       1       1       5       4       0      11     225   18016\n"
     ]
    }
   ],
   "source": [
    "conf_matrix_cpu = conf_matrix.to(\"cpu\")\n",
    "df = pd.DataFrame(conf_matrix.cpu().int().numpy(), index=index, columns=columns)\n",
    "print(df.to_string())"
   ]
  },
  {
   "cell_type": "code",
   "execution_count": null,
   "id": "865b26d9-0c60-489a-98f6-f8489c03dd53",
   "metadata": {},
   "outputs": [],
   "source": []
  }
 ],
 "metadata": {
  "kernelspec": {
   "display_name": "Python 3 (ipykernel)",
   "language": "python",
   "name": "python3"
  },
  "language_info": {
   "codemirror_mode": {
    "name": "ipython",
    "version": 3
   },
   "file_extension": ".py",
   "mimetype": "text/x-python",
   "name": "python",
   "nbconvert_exporter": "python",
   "pygments_lexer": "ipython3",
   "version": "3.11.11"
  }
 },
 "nbformat": 4,
 "nbformat_minor": 5
}
