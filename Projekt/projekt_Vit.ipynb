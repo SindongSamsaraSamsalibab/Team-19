{
 "cells": [
  {
   "cell_type": "code",
   "execution_count": 3,
   "id": "51ef112e",
   "metadata": {},
   "outputs": [
    {
     "name": "stdout",
     "output_type": "stream",
     "text": [
      "WARNING:tensorflow:From C:\\Users\\oscar\\AppData\\Local\\Packages\\PythonSoftwareFoundation.Python.3.12_qbz5n2kfra8p0\\LocalCache\\local-packages\\Python312\\site-packages\\tf_keras\\src\\losses.py:2976: The name tf.losses.sparse_softmax_cross_entropy is deprecated. Please use tf.compat.v1.losses.sparse_softmax_cross_entropy instead.\n",
      "\n"
     ]
    }
   ],
   "source": [
    "#Imports\n",
    "\n",
    "import os\n",
    "import torch\n",
    "import wandb\n",
    "from PIL import Image\n",
    "from tqdm import tqdm\n",
    "from torchvision import transforms\n",
    "from datasets import Dataset\n",
    "from transformers import ViTFeatureExtractor, ViTForImageClassification, TrainingArguments, Trainer\n",
    "from sklearn.metrics import accuracy_score, f1_score\n",
    "import numpy as np"
   ]
  },
  {
   "cell_type": "code",
   "execution_count": 6,
   "id": "161d405e",
   "metadata": {},
   "outputs": [
    {
     "name": "stderr",
     "output_type": "stream",
     "text": [
      "\u001b[34m\u001b[1mwandb\u001b[0m: \u001b[32m\u001b[41mERROR\u001b[0m The nbformat package was not found. It is required to save notebook history.\n"
     ]
    },
    {
     "data": {
      "text/html": [],
      "text/plain": [
       "<IPython.core.display.HTML object>"
      ]
     },
     "metadata": {},
     "output_type": "display_data"
    },
    {
     "data": {
      "text/html": [
       " View run <strong style=\"color:#cdcd00\">solar-dream-1</strong> at: <a href='https://wandb.ai/ertveh-4-lule-university-of-technology/Group_19_handwritten-text-classification_ViT/runs/7snxk456' target=\"_blank\">https://wandb.ai/ertveh-4-lule-university-of-technology/Group_19_handwritten-text-classification_ViT/runs/7snxk456</a><br> View project at: <a href='https://wandb.ai/ertveh-4-lule-university-of-technology/Group_19_handwritten-text-classification_ViT' target=\"_blank\">https://wandb.ai/ertveh-4-lule-university-of-technology/Group_19_handwritten-text-classification_ViT</a><br>Synced 5 W&B file(s), 0 media file(s), 0 artifact file(s) and 0 other file(s)"
      ],
      "text/plain": [
       "<IPython.core.display.HTML object>"
      ]
     },
     "metadata": {},
     "output_type": "display_data"
    },
    {
     "data": {
      "text/html": [
       "Find logs at: <code>.\\wandb\\run-20250428_134409-7snxk456\\logs</code>"
      ],
      "text/plain": [
       "<IPython.core.display.HTML object>"
      ]
     },
     "metadata": {},
     "output_type": "display_data"
    },
    {
     "data": {
      "text/html": [
       "Tracking run with wandb version 0.19.9"
      ],
      "text/plain": [
       "<IPython.core.display.HTML object>"
      ]
     },
     "metadata": {},
     "output_type": "display_data"
    },
    {
     "data": {
      "text/html": [
       "Run data is saved locally in <code>c:\\Users\\oscar\\SKOLA\\D7047e\\Team-19\\Lab 1\\wandb\\run-20250428_134921-48hzupqc</code>"
      ],
      "text/plain": [
       "<IPython.core.display.HTML object>"
      ]
     },
     "metadata": {},
     "output_type": "display_data"
    },
    {
     "data": {
      "text/html": [
       "Syncing run <strong><a href='https://wandb.ai/ertveh-4-lule-university-of-technology/Group_19_handwritten-text-classification_ViT/runs/48hzupqc' target=\"_blank\">silvery-frost-2</a></strong> to <a href='https://wandb.ai/ertveh-4-lule-university-of-technology/Group_19_handwritten-text-classification_ViT' target=\"_blank\">Weights & Biases</a> (<a href='https://wandb.me/developer-guide' target=\"_blank\">docs</a>)<br>"
      ],
      "text/plain": [
       "<IPython.core.display.HTML object>"
      ]
     },
     "metadata": {},
     "output_type": "display_data"
    },
    {
     "data": {
      "text/html": [
       " View project at <a href='https://wandb.ai/ertveh-4-lule-university-of-technology/Group_19_handwritten-text-classification_ViT' target=\"_blank\">https://wandb.ai/ertveh-4-lule-university-of-technology/Group_19_handwritten-text-classification_ViT</a>"
      ],
      "text/plain": [
       "<IPython.core.display.HTML object>"
      ]
     },
     "metadata": {},
     "output_type": "display_data"
    },
    {
     "data": {
      "text/html": [
       " View run at <a href='https://wandb.ai/ertveh-4-lule-university-of-technology/Group_19_handwritten-text-classification_ViT/runs/48hzupqc' target=\"_blank\">https://wandb.ai/ertveh-4-lule-university-of-technology/Group_19_handwritten-text-classification_ViT/runs/48hzupqc</a>"
      ],
      "text/plain": [
       "<IPython.core.display.HTML object>"
      ]
     },
     "metadata": {},
     "output_type": "display_data"
    },
    {
     "name": "stderr",
     "output_type": "stream",
     "text": [
      "C:\\Users\\oscar\\AppData\\Local\\Packages\\PythonSoftwareFoundation.Python.3.12_qbz5n2kfra8p0\\LocalCache\\local-packages\\Python312\\site-packages\\transformers\\models\\vit\\feature_extraction_vit.py:28: FutureWarning: The class ViTFeatureExtractor is deprecated and will be removed in version 5 of Transformers. Please use ViTImageProcessor instead.\n",
      "  warnings.warn(\n"
     ]
    }
   ],
   "source": [
    "# Configuration\n",
    "TRAIN_ROOT = r'C:\\Skola\\D7047e\\cross_out_dataset\\train\\images'  # contains train/, val/, test/\n",
    "VAL_ROOT = r'C:\\Skola\\D7047e\\cross_out_dataset\\val\\images'\n",
    "TEST_ROOT = r'C:\\Skola\\D7047e\\cross_out_dataset\\test\\images'\n",
    "MIN_SIDE_LENGTH = 30\n",
    "BATCH_SIZE = 32\n",
    "NUM_EPOCHS = 5\n",
    "PROJECT_NAME = \"Group_19_handwritten-text-classification_ViT\"\n",
    "MODEL_NAME = \"google/vit-base-patch16-224-in21k\"\n",
    "LABELS = [\"CLEAN\", \"CROSS\", \"DIAGONAL\", \"DOUBLE_LINE\", \"SCRATCH\", \"SINGLE_LINE\", \"WAVE\", \"ZIG_ZAG\"]\n",
    "device = torch.device(\"cuda\" if torch.cuda.is_available() else \"cpu\")\n",
    "\n",
    "wandb.init(project=PROJECT_NAME)\n",
    "\n",
    "feature_extractor = ViTFeatureExtractor.from_pretrained(MODEL_NAME)"
   ]
  },
  {
   "cell_type": "code",
   "execution_count": 8,
   "id": "14e5de6d",
   "metadata": {},
   "outputs": [
    {
     "ename": "FileNotFoundError",
     "evalue": "[WinError 3] Det går inte att hitta sökvägen: 'C:\\\\Skola\\\\D7047e\\\\cross_out_dataset\\\\train\\\\images\\\\train\\\\CLEAN'",
     "output_type": "error",
     "traceback": [
      "\u001b[31m---------------------------------------------------------------------------\u001b[39m",
      "\u001b[31mFileNotFoundError\u001b[39m                         Traceback (most recent call last)",
      "\u001b[36mCell\u001b[39m\u001b[36m \u001b[39m\u001b[32mIn[8]\u001b[39m\u001b[32m, line 19\u001b[39m\n\u001b[32m     16\u001b[39m                 \u001b[38;5;28;01mcontinue\u001b[39;00m\n\u001b[32m     17\u001b[39m     \u001b[38;5;28;01mreturn\u001b[39;00m Dataset.from_dict({\u001b[33m\"\u001b[39m\u001b[33mimage_path\u001b[39m\u001b[33m\"\u001b[39m: images, \u001b[33m\"\u001b[39m\u001b[33mlabel\u001b[39m\u001b[33m\"\u001b[39m: labels})\n\u001b[32m---> \u001b[39m\u001b[32m19\u001b[39m train_dataset = \u001b[43mload_split\u001b[49m\u001b[43m(\u001b[49m\u001b[43mos\u001b[49m\u001b[43m.\u001b[49m\u001b[43mpath\u001b[49m\u001b[43m.\u001b[49m\u001b[43mjoin\u001b[49m\u001b[43m(\u001b[49m\u001b[43mTRAIN_ROOT\u001b[49m\u001b[43m,\u001b[49m\u001b[43m \u001b[49m\u001b[33;43m\"\u001b[39;49m\u001b[33;43mtrain\u001b[39;49m\u001b[33;43m\"\u001b[39;49m\u001b[43m)\u001b[49m\u001b[43m,\u001b[49m\u001b[43m \u001b[49m\u001b[43mMIN_SIDE_LENGTH\u001b[49m\u001b[43m)\u001b[49m\n\u001b[32m     20\u001b[39m val_dataset = load_split(os.path.join(VAL_ROOT, \u001b[33m\"\u001b[39m\u001b[33mval\u001b[39m\u001b[33m\"\u001b[39m), MIN_SIDE_LENGTH)\n\u001b[32m     21\u001b[39m test_dataset = load_split(os.path.join(TEST_ROOT, \u001b[33m\"\u001b[39m\u001b[33mtest\u001b[39m\u001b[33m\"\u001b[39m), MIN_SIDE_LENGTH)\n",
      "\u001b[36mCell\u001b[39m\u001b[36m \u001b[39m\u001b[32mIn[8]\u001b[39m\u001b[32m, line 5\u001b[39m, in \u001b[36mload_split\u001b[39m\u001b[34m(split_dir, min_side)\u001b[39m\n\u001b[32m      3\u001b[39m \u001b[38;5;28;01mfor\u001b[39;00m label_idx, label \u001b[38;5;129;01min\u001b[39;00m \u001b[38;5;28menumerate\u001b[39m(LABELS):\n\u001b[32m      4\u001b[39m     folder = os.path.join(split_dir, label)\n\u001b[32m----> \u001b[39m\u001b[32m5\u001b[39m     \u001b[38;5;28;01mfor\u001b[39;00m fname \u001b[38;5;129;01min\u001b[39;00m tqdm(\u001b[43mos\u001b[49m\u001b[43m.\u001b[49m\u001b[43mlistdir\u001b[49m\u001b[43m(\u001b[49m\u001b[43mfolder\u001b[49m\u001b[43m)\u001b[49m, desc=\u001b[33mf\u001b[39m\u001b[33m\"\u001b[39m\u001b[33mLoading \u001b[39m\u001b[38;5;132;01m{\u001b[39;00msplit_dir\u001b[38;5;132;01m}\u001b[39;00m\u001b[33m - \u001b[39m\u001b[38;5;132;01m{\u001b[39;00mlabel\u001b[38;5;132;01m}\u001b[39;00m\u001b[33m\"\u001b[39m):\n\u001b[32m      6\u001b[39m         \u001b[38;5;28;01mif\u001b[39;00m \u001b[38;5;129;01mnot\u001b[39;00m fname.endswith(\u001b[33m\"\u001b[39m\u001b[33m.png\u001b[39m\u001b[33m\"\u001b[39m):\n\u001b[32m      7\u001b[39m             \u001b[38;5;28;01mcontinue\u001b[39;00m\n",
      "\u001b[31mFileNotFoundError\u001b[39m: [WinError 3] Det går inte att hitta sökvägen: 'C:\\\\Skola\\\\D7047e\\\\cross_out_dataset\\\\train\\\\images\\\\train\\\\CLEAN'"
     ]
    }
   ],
   "source": [
    "def load_split(split_dir, min_side):\n",
    "    images, labels = [], []\n",
    "    for label_idx, label in enumerate(LABELS):\n",
    "        folder = os.path.join(split_dir, label)\n",
    "        for fname in tqdm(os.listdir(folder), desc=f\"Loading {split_dir} - {label}\"):\n",
    "            if not fname.endswith(\".png\"):\n",
    "                continue\n",
    "            path = os.path.join(folder, fname)\n",
    "            try:\n",
    "                with Image.open(path) as img:\n",
    "                    if img.width < min_side or img.height < min_side:\n",
    "                        continue\n",
    "                    images.append(path)\n",
    "                    labels.append(label_idx)\n",
    "            except:\n",
    "                continue\n",
    "    return Dataset.from_dict({\"image_path\": images, \"label\": labels})\n",
    "\n",
    "train_dataset = load_split(os.path.join(TRAIN_ROOT, \"train\"), MIN_SIDE_LENGTH)\n",
    "val_dataset = load_split(os.path.join(VAL_ROOT, \"val\"), MIN_SIDE_LENGTH)\n",
    "test_dataset = load_split(os.path.join(TEST_ROOT, \"test\"), MIN_SIDE_LENGTH)\n"
   ]
  },
  {
   "cell_type": "code",
   "execution_count": null,
   "id": "461a280b",
   "metadata": {},
   "outputs": [],
   "source": [
    "def transform(example):\n",
    "    image = Image.open(example[\"image_path\"]).convert(\"RGB\")\n",
    "    inputs = feature_extractor(images=image, return_tensors=\"pt\")\n",
    "    return {\"pixel_values\": inputs[\"pixel_values\"][0], \"label\": example[\"label\"]}\n",
    "\n",
    "train_dataset = train_dataset.map(transform)\n",
    "val_dataset = val_dataset.map(transform)\n",
    "test_dataset = test_dataset.map(transform)\n",
    "\n",
    "def compute_metrics(p):\n",
    "    preds = np.argmax(p.predictions, axis=1)\n",
    "    acc = accuracy_score(p.label_ids, preds)\n",
    "    f1 = f1_score(p.label_ids, preds, average=\"weighted\")\n",
    "    return {\"accuracy\": acc, \"f1\": f1}\n",
    "\n",
    "model = ViTForImageClassification.from_pretrained(\n",
    "    MODEL_NAME,\n",
    "    num_labels=len(LABELS),\n",
    "    id2label={i: l for i, l in enumerate(LABELS)},\n",
    "    label2id={l: i for i, l in enumerate(LABELS)},\n",
    ").to(device)"
   ]
  },
  {
   "cell_type": "code",
   "execution_count": null,
   "id": "67be4b69",
   "metadata": {},
   "outputs": [],
   "source": [
    "training_args = TrainingArguments(\n",
    "    output_dir=\"./vit-handwritten\",\n",
    "    per_device_train_batch_size=BATCH_SIZE,\n",
    "    per_device_eval_batch_size=BATCH_SIZE,\n",
    "    evaluation_strategy=\"epoch\",\n",
    "    save_strategy=\"epoch\",\n",
    "    logging_dir=\"./logs\",\n",
    "    logging_strategy=\"steps\",\n",
    "    logging_steps=10,\n",
    "    num_train_epochs=NUM_EPOCHS,\n",
    "    report_to=\"wandb\",\n",
    "    load_best_model_at_end=True,\n",
    "    metric_for_best_model=\"f1\",\n",
    "    fp16=True,\n",
    ")\n",
    "\n",
    "trainer = Trainer(\n",
    "    model=model,\n",
    "    args=training_args,\n",
    "    train_dataset=train_dataset,\n",
    "    eval_dataset=val_dataset,\n",
    "    compute_metrics=compute_metrics,\n",
    "    tokenizer=feature_extractor,\n",
    ")\n"
   ]
  },
  {
   "cell_type": "code",
   "execution_count": null,
   "id": "8a6110c3",
   "metadata": {},
   "outputs": [],
   "source": [
    "\n",
    "trainer.train()\n"
   ]
  },
  {
   "cell_type": "code",
   "execution_count": null,
   "id": "6b4de596",
   "metadata": {},
   "outputs": [],
   "source": [
    "print(\"Evaluating on Test Set:\")\n",
    "trainer.evaluate(eval_dataset=test_dataset)"
   ]
  }
 ],
 "metadata": {
  "kernelspec": {
   "display_name": "Python 3",
   "language": "python",
   "name": "python3"
  },
  "language_info": {
   "codemirror_mode": {
    "name": "ipython",
    "version": 3
   },
   "file_extension": ".py",
   "mimetype": "text/x-python",
   "name": "python",
   "nbconvert_exporter": "python",
   "pygments_lexer": "ipython3",
   "version": "3.12.10"
  }
 },
 "nbformat": 4,
 "nbformat_minor": 5
}
