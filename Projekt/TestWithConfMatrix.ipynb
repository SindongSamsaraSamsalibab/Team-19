{
 "cells": [
  {
   "cell_type": "code",
   "execution_count": 1,
   "id": "7a6d3a43-36e7-41af-8903-cd521b1c2d67",
   "metadata": {},
   "outputs": [
    {
     "name": "stdout",
     "output_type": "stream",
     "text": [
      "Using device: cuda\n"
     ]
    },
    {
     "name": "stderr",
     "output_type": "stream",
     "text": [
      "C:\\Users\\elias\\AppData\\Local\\Temp\\ipykernel_15760\\1080961450.py:11: FutureWarning: You are using `torch.load` with `weights_only=False` (the current default value), which uses the default pickle module implicitly. It is possible to construct malicious pickle data which will execute arbitrary code during unpickling (See https://github.com/pytorch/pytorch/blob/main/SECURITY.md#untrusted-models for more details). In a future release, the default value for `weights_only` will be flipped to `True`. This limits the functions that could be executed during unpickling. Arbitrary objects will no longer be allowed to be loaded via this mode unless they are explicitly allowlisted by the user via `torch.serialization.add_safe_globals`. We recommend you start setting `weights_only=True` for any use case where you don't have full control of the loaded file. Please open an issue on GitHub for any issues related to this experimental feature.\n",
      "  model = torch.load(r\"C:\\Users\\elias\\Documents\\Neural networks\\Advanced\\Project\\Run1\", map_location=device)\n"
     ]
    },
    {
     "ename": "NameError",
     "evalue": "name 'test_loader' is not defined",
     "output_type": "error",
     "traceback": [
      "\u001b[1;31m---------------------------------------------------------------------------\u001b[0m",
      "\u001b[1;31mNameError\u001b[0m                                 Traceback (most recent call last)",
      "Cell \u001b[1;32mIn[1], line 26\u001b[0m\n\u001b[0;32m     22\u001b[0m \u001b[38;5;66;03m# ⚠️ If you're not already doing this when defining test_loader:\u001b[39;00m\n\u001b[0;32m     23\u001b[0m \u001b[38;5;66;03m# test_loader = DataLoader(test_dataset, batch_size=256, shuffle=False, pin_memory=True)\u001b[39;00m\n\u001b[0;32m     25\u001b[0m \u001b[38;5;28;01mwith\u001b[39;00m torch\u001b[38;5;241m.\u001b[39mno_grad():\n\u001b[1;32m---> 26\u001b[0m     \u001b[38;5;28;01mfor\u001b[39;00m batch \u001b[38;5;129;01min\u001b[39;00m tqdm(\u001b[43mtest_loader\u001b[49m, desc\u001b[38;5;241m=\u001b[39m\u001b[38;5;124m\"\u001b[39m\u001b[38;5;124mEvaluating\u001b[39m\u001b[38;5;124m\"\u001b[39m, unit\u001b[38;5;241m=\u001b[39m\u001b[38;5;124m\"\u001b[39m\u001b[38;5;124mbatch\u001b[39m\u001b[38;5;124m\"\u001b[39m):\n\u001b[0;32m     27\u001b[0m         inputs, labels \u001b[38;5;241m=\u001b[39m batch\n\u001b[0;32m     28\u001b[0m         inputs, labels \u001b[38;5;241m=\u001b[39m inputs\u001b[38;5;241m.\u001b[39mto(device, non_blocking\u001b[38;5;241m=\u001b[39m\u001b[38;5;28;01mTrue\u001b[39;00m), labels\u001b[38;5;241m.\u001b[39mto(device, non_blocking\u001b[38;5;241m=\u001b[39m\u001b[38;5;28;01mTrue\u001b[39;00m)\n",
      "\u001b[1;31mNameError\u001b[0m: name 'test_loader' is not defined"
     ]
    }
   ],
   "source": [
    "import torch\n",
    "import pandas as pd\n",
    "from tqdm import tqdm\n",
    "from torch.utils.data import DataLoader\n",
    "\n",
    "# Detect device\n",
    "device = torch.device(\"cuda\" if torch.cuda.is_available() else \"cpu\")\n",
    "print(f\"Using device: {device}\")\n",
    "\n",
    "# Sanity check: detect unique class labels from test set\n",
    "all_labels = []\n",
    "for _, labels in test_loader:\n",
    "    all_labels.extend(labels.tolist())\n",
    "unique_classes = sorted(set(all_labels))\n",
    "num_classes = len(unique_classes)\n",
    "print(f\"Unique label values in test set: {unique_classes}\")\n",
    "print(f\"Detected number of classes: {num_classes}\")\n",
    "\n",
    "# Load model safely\n",
    "model = torch.load(\n",
    "    r\"C:\\Users\\elias\\Documents\\Neural networks\\Advanced\\Project\\Run1\",\n",
    "    map_location=device\n",
    ")\n",
    "model.to(device)\n",
    "model.eval()\n",
    "\n",
    "# Initialize confusion matrix\n",
    "conf_matrix = torch.zeros(num_classes, num_classes, device=device)\n",
    "total = 0\n",
    "correct = 0\n",
    "\n",
    "with torch.no_grad():\n",
    "    for batch in tqdm(test_loader, desc=\"Evaluating\", unit=\"batch\"):\n",
    "        inputs, labels = batch\n",
    "        inputs, labels = inputs.to(device, non_blocking=True), labels.to(device, non_blocking=True)\n",
    "        outputs = model(inputs)\n",
    "        preds = torch.argmax(outputs, dim=1)\n",
    "\n",
    "        for t, p in zip(labels, preds):\n",
    "            # Safety check for bounds\n",
    "            if t < num_classes and p < num_classes:\n",
    "                conf_matrix[t.long(), p.long()] += 1\n",
    "                if t == p:\n",
    "                    correct += 1\n",
    "            total += 1\n",
    "\n",
    "# Calculate overall accuracy\n",
    "total_accuracy = 100 * correct / total\n",
    "print(f\"\\nTotal Accuracy: {total_accuracy:.2f}%\\n\")\n",
    "\n",
    "# Convert confusion matrix to % per class\n",
    "conf_matrix_cpu = conf_matrix.to(\"cpu\")\n",
    "conf_percent = conf_matrix_cpu.clone()\n",
    "for i in range(num_classes):\n",
    "    row_sum = conf_percent[i].sum()\n",
    "    if row_sum > 0:\n",
    "        conf_percent[i] = conf_percent[i] / row_sum * 100\n",
    "\n",
    "# Create and format the confusion DataFrame\n",
    "columns = [f\"Pred_{i}\" for i in range(num_classes)]\n",
    "index = [f\"True_{i}\" for i in range(num_classes)]\n",
    "df = pd.DataFrame(conf_percent.numpy(), index=index, columns=columns)\n",
    "df['% Wrong'] = 100 - df[[f\"Pred_{i}\" for i in range(num_classes)]].max(axis=1)\n",
    "df = df.round(2)\n",
    "\n",
    "# Show results\n",
    "print(\"Confusion Matrix (% per true class):\")\n",
    "print(df.to_string())\n"
   ]
  }
 ],
 "metadata": {
  "kernelspec": {
   "display_name": "Python 3 (ipykernel)",
   "language": "python",
   "name": "python3"
  },
  "language_info": {
   "codemirror_mode": {
    "name": "ipython",
    "version": 3
   },
   "file_extension": ".py",
   "mimetype": "text/x-python",
   "name": "python",
   "nbconvert_exporter": "python",
   "pygments_lexer": "ipython3",
   "version": "3.8.20"
  }
 },
 "nbformat": 4,
 "nbformat_minor": 5
}
