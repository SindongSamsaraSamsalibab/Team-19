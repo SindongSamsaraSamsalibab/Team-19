{
 "cells": [
  {
   "cell_type": "code",
   "execution_count": 29,
   "id": "1da75e42-97d1-4f83-bb9c-2fcc00d322b4",
   "metadata": {},
   "outputs": [],
   "source": [
    "import numpy as np\n",
    "import matplotlib.pyplot as plt\n",
    "from sklearn.cluster import KMeans\n",
    "import torchvision.transforms as transforms\n",
    "import os\n",
    "import shutil\n",
    "import os\n",
    "from PIL import Image\n",
    "from torch.utils.data import Dataset\n",
    "import torchvision.datasets as datasets\n",
    "from torch.utils.data import DataLoader\n",
    "import random\n",
    "import torchvision.models as models\n",
    "import torch.nn as nn\n",
    "import torch\n",
    "import matplotlib.pyplot as plt\n",
    "import torch.optim as optim\n",
    "import cv2\n",
    "from PIL import Image, UnidentifiedImageError\n",
    "from PIL import ImageOps\n",
    "import tqdm as tqdm"
   ]
  },
  {
   "cell_type": "code",
   "execution_count": 30,
   "id": "3cedc635",
   "metadata": {},
   "outputs": [],
   "source": [
    "class ResizeByLongerSideWithRatioNoRandom:\n",
    "    def __init__(self, size=(224,224), fill_color=0):\n",
    "        self.size = size  # The fixed size for the longer side\n",
    "        self.fill_color = fill_color  # Padding color (default: black)\n",
    "\n",
    "    def __call__(self, image):\n",
    "        w, h = image.size  # Get original width and height\n",
    "        ratio = w/h\n",
    "        target_w, target_h = self.size\n",
    "        target_ratio = target_w/target_h\n",
    "        if target_ratio <= ratio:\n",
    "            # Scale height to maintain aspect ratio\n",
    "            new_w, new_h = target_w, int((h/w)*target_w)\n",
    "            padding_h = target_h-new_h\n",
    "            padding_w = 0\n",
    "\n",
    "        else:\n",
    "            # Scale width to maintain aspect ratio\n",
    "            new_w, new_h = int((w/h)*target_h), target_h\n",
    "            padding_w = target_w - new_w\n",
    "            padding_h = 0\n",
    "        # Resize the image\n",
    "\n",
    "        #image = self.binarize(image)\n",
    "\n",
    "        image = image.resize((new_w, new_h))\n",
    "\n",
    "        left = padding_w//2\n",
    "        top = padding_h//2\n",
    "        right = padding_w-left\n",
    "        bot = padding_h-top\n",
    "        padding = (left,top,right,bot)\n",
    "\n",
    "        image = ImageOps.expand(image, border=padding, fill=self.fill_color)\n",
    "        return image\n",
    "    def binarize(self, image):\n",
    "        image = np.array(image)\n",
    "        image_gray = cv2.cvtColor(image,cv2.COLOR_BGR2GRAY)\n",
    "\n",
    "        image_gray = cv2.medianBlur(image_gray,5)\n",
    "        image_gray = cv2.normalize(image_gray, None, alpha=0, beta=350, norm_type=cv2.NORM_MINMAX, dtype=cv2.CV_8U)\n",
    "\n",
    "        BLOCK_SIZE = 11\n",
    "        CONSTANT = 10\n",
    "\n",
    "        image = cv2.adaptiveThreshold(image_gray,255,cv2.ADAPTIVE_THRESH_MEAN_C, cv2.THRESH_BINARY,BLOCK_SIZE,CONSTANT)\n",
    "        image = Image.fromarray(image.astype(np.uint8))\n",
    "\n",
    "        return image"
   ]
  },
  {
   "cell_type": "code",
   "execution_count": 31,
   "id": "a19cd940-8ce2-4992-bbf0-fad480e1521d",
   "metadata": {},
   "outputs": [],
   "source": [
    "class ResizeByLongerSideWithRatio:\n",
    "    def __init__(self, size, fill_color=0):\n",
    "        self.size = size  # The fixed size for the longer side\n",
    "        self.fill_color = fill_color  # Padding color (default: black)\n",
    "\n",
    "    def __call__(self, image):\n",
    "        w, h = image.size  # Get original width and height\n",
    "        ratio = w/h\n",
    "        target_w, target_h = self.size\n",
    "        target_ratio = target_w/target_h\n",
    "        if target_ratio <= ratio:\n",
    "            # Scale height to maintain aspect ratio\n",
    "            new_w, new_h = target_w, int((h/w)*target_w)\n",
    "            padding_h = target_h-new_h\n",
    "            padding_w = 0\n",
    "        \n",
    "        else:\n",
    "            # Scale width to maintain aspect ratio\n",
    "            new_w, new_h = int((w/h)*target_h), target_h\n",
    "            padding_w = target_w - new_w\n",
    "            padding_h = 0\n",
    "        # Resize the image\n",
    "        \n",
    "        #image = self.binarize(image)\n",
    "        \n",
    "        image = image.resize((new_w, new_h))\n",
    "        \n",
    "        left = random.randint(0,padding_w)\n",
    "        top = random.randint(0,padding_h)\n",
    "        right = padding_w-left\n",
    "        bot = padding_h-top\n",
    "        padding = (left,top,right,bot)\n",
    "        \n",
    "        image = ImageOps.expand(image, border=padding, fill=self.fill_color)\n",
    "        return image\n",
    "    def binarize(self, image):\n",
    "        image = np.array(image)\n",
    "        image_gray = cv2.cvtColor(image,cv2.COLOR_BGR2GRAY)\n",
    "        \n",
    "        image_gray = cv2.medianBlur(image_gray,5)\n",
    "        image_gray = cv2.normalize(image_gray, None, alpha=0, beta=350, norm_type=cv2.NORM_MINMAX, dtype=cv2.CV_8U)\n",
    "        \n",
    "        BLOCK_SIZE = 11\n",
    "        CONSTANT = 10\n",
    "        \n",
    "        image = cv2.adaptiveThreshold(image_gray,255,cv2.ADAPTIVE_THRESH_MEAN_C, cv2.THRESH_BINARY,BLOCK_SIZE,CONSTANT)\n",
    "        image = Image.fromarray(image.astype(np.uint8))\n",
    "        \n",
    "        return image\n",
    "   "
   ]
  },
  {
   "cell_type": "code",
   "execution_count": 32,
   "id": "13cd88e2-0341-483b-8f43-501c0a4718f7",
   "metadata": {},
   "outputs": [],
   "source": [
    "\n",
    "#from CustomTransforms import ResizeByLongerSideWithRatio\n",
    "train_transform = transforms.Compose([\n",
    "    #ResizeByLongerSideWithRatio(size=(224,224)),  # Resize based on longer side\n",
    "    ResizeByLongerSideWithRatioNoRandom(),  # Resize based on longer side\n",
    "    transforms.ToTensor(),\n",
    "    #transforms.RandomApply([transforms.GaussianBlur(5)], p=0.3),\n",
    "    transforms.Normalize(mean=[0.5,0.5,0.5], std=[0.5,0.5,0.5])  # Normalize\n",
    "])\n",
    "\n",
    "val_transform = transforms.Compose([\n",
    "    #ResizeByLongerSideWithRatio(size=(224,224)),  # Resize based on longer side\n",
    "    ResizeByLongerSideWithRatioNoRandom(),\n",
    "    transforms.ToTensor(),\n",
    "    transforms.Normalize(mean=[0.5,0.5,0.5], std=[0.5,0.5,0.5])  # Normalize\n",
    "])"
   ]
  },
  {
   "cell_type": "code",
   "execution_count": 33,
   "id": "710ba158-ffb7-44e0-90ea-e7cf8cc1db06",
   "metadata": {},
   "outputs": [
    {
     "data": {
      "text/plain": [
       "'\\ndef remove_checkpoints(base_dir):\\n    for root, dirs, _ in os.walk(base_dir):\\n        for folder in dirs:\\n            if folder == \".ipynb_checkpoints\":\\n                folder_path = os.path.join(root, folder)\\n                shutil.rmtree(folder_path)\\n                print(f\"Removed: {folder_path}\")\\n\\n# Replace with your dataset directory\\ndata_dir = \"cross_out_dataset\"\\nremove_checkpoints(data_dir)\\n'"
      ]
     },
     "execution_count": 33,
     "metadata": {},
     "output_type": "execute_result"
    }
   ],
   "source": [
    "\n",
    "\"\"\"\n",
    "def remove_checkpoints(base_dir):\n",
    "    for root, dirs, _ in os.walk(base_dir):\n",
    "        for folder in dirs:\n",
    "            if folder == \".ipynb_checkpoints\":\n",
    "                folder_path = os.path.join(root, folder)\n",
    "                shutil.rmtree(folder_path)\n",
    "                print(f\"Removed: {folder_path}\")\n",
    "\n",
    "# Replace with your dataset directory\n",
    "data_dir = \"cross_out_dataset\"\n",
    "remove_checkpoints(data_dir)\n",
    "\"\"\""
   ]
  },
  {
   "cell_type": "code",
   "execution_count": 34,
   "id": "69ad40d6",
   "metadata": {},
   "outputs": [],
   "source": [
    "class HandwritingDataset(Dataset):\n",
    "    def __init__(self, root, transform=None, max_len=20):\n",
    "        self.max_len = max_len\n",
    "        self.root_dir = root\n",
    "        self.transform = transform\n",
    "        self.samples = []\n",
    "        self.label_map = {\n",
    "            \"CLEAN\": 0,\n",
    "            \"CROSS\": 1,\n",
    "            \"DIAGONAL\": 2,\n",
    "            \"DOUBLE_LINE\": 3,\n",
    "            \"SCRATCH\": 4,\n",
    "            \"SINGLE_LINE\": 5,\n",
    "            \"WAVE\": 6,\n",
    "            \"ZIG_ZAG\": 7\n",
    "        }\n",
    "        valid_extensions = {\".jpg\", \".jpeg\", \".png\", \".bmp\", \".gif\", \".tiff\"}\n",
    "        for label in tqdm.tqdm(self.label_map, desc=\"Scanning classes\"):\n",
    "            class_dir = os.path.join(root, label)\n",
    "            if not os.path.isdir(class_dir):\n",
    "                continue\n",
    "            for fname in tqdm.tqdm(os.listdir(class_dir), desc=f\"Scanning {label}\", leave=False):\n",
    "                ext = os.path.splitext(fname)[1].lower()\n",
    "                if ext in valid_extensions:\n",
    "                    fpath = os.path.join(class_dir, fname)\n",
    "                    try:\n",
    "                        with Image.open(fpath) as img:\n",
    "                            width, height = img.size\n",
    "                            # Check if the image is too small\n",
    "                            if width >= self.max_len and height >= self.max_len:\n",
    "                                self.samples.append((fpath, self.label_map[label]))\n",
    "                    except Exception:\n",
    "                        print(f\"Warning: Skipping unreadable file during init: {fpath}\")\n",
    "\n",
    "    def __len__(self):\n",
    "        return len(self.samples)\n",
    "\n",
    "    def __getitem__(self, idx):\n",
    "        img_path, label = self.samples[idx]\n",
    "        try:\n",
    "            image = Image.open(img_path).convert('RGB')\n",
    "                 \n",
    "        except (UnidentifiedImageError, ValueError, OSError) as e:\n",
    "            print(f\"Warning: Skipping file {img_path} ({str(e)})\")\n",
    "            return self.__getitem__((idx + 1) % len(self.samples))  # Retry with next sample\n",
    "\n",
    "        if self.transform:\n",
    "            image = self.transform(image)\n",
    "        return image, label\n",
    "    "
   ]
  },
  {
   "cell_type": "code",
   "execution_count": 35,
   "id": "6a54f62d-f99f-4f93-85b3-4e1692e618e9",
   "metadata": {},
   "outputs": [],
   "source": [
    "\n",
    "\n",
    "class FilteredImageFolder(Dataset):\n",
    "    def __init__(self, root, transform=None, min_size=20):\n",
    "        self.root_dir = root        \n",
    "        self.transform = transform\n",
    "        self.min_size = min_size\n",
    "        self.image_paths, self.labels = self._filter_and_label_images()\n",
    "\n",
    "    def _filter_and_label_images(self):\n",
    "        image_paths = []\n",
    "        labels = []\n",
    "        class_names = sorted(os.listdir(self.root_dir))  # Get folder names as labels\n",
    "        class_to_idx = {class_name: idx for idx, class_name in enumerate(class_names)}\n",
    "\n",
    "        for class_name in class_names:\n",
    "            class_dir = os.path.join(self.root_dir, class_name)\n",
    "            if not os.path.isdir(class_dir):\n",
    "                continue  # Skip non-folder files\n",
    "\n",
    "            for filename in os.listdir(class_dir):\n",
    "                img_path = os.path.join(class_dir, filename)\n",
    "                try:\n",
    "                    img = Image.open(img_path)\n",
    "                    width, height = img.size\n",
    "                    if width >= self.min_size and height >= self.min_size:\n",
    "                        image_paths.append(img_path)\n",
    "                        labels.append(class_to_idx[class_name])  # Assign label based on folder\n",
    "                except:\n",
    "                    print(f\"Skipping corrupted file: {img_path}\")\n",
    "\n",
    "        return image_paths, labels\n",
    "\n",
    "    def __len__(self):\n",
    "        return len(self.image_paths)\n",
    "\n",
    "    def __getitem__(self, idx):\n",
    "        img_path = self.image_paths[idx]\n",
    "        label = self.labels[idx]\n",
    "        img = Image.open(img_path).convert(\"RGB\")\n",
    "        \n",
    "        if self.transform:\n",
    "            img = self.transform(img)\n",
    "\n",
    "        return img, label  # Returning (image, label) tuple"
   ]
  },
  {
   "cell_type": "code",
   "execution_count": 36,
   "id": "3ad8dc65-dee1-47d1-aa23-5fc321ae3380",
   "metadata": {},
   "outputs": [
    {
     "name": "stderr",
     "output_type": "stream",
     "text": [
      "Scanning classes:  38%|███▊      | 3/8 [00:45<01:15, 15.07s/it]\n"
     ]
    },
    {
     "ename": "KeyboardInterrupt",
     "evalue": "",
     "output_type": "error",
     "traceback": [
      "\u001b[31m---------------------------------------------------------------------------\u001b[39m",
      "\u001b[31mKeyboardInterrupt\u001b[39m                         Traceback (most recent call last)",
      "\u001b[36mCell\u001b[39m\u001b[36m \u001b[39m\u001b[32mIn[36]\u001b[39m\u001b[32m, line 3\u001b[39m\n\u001b[32m      1\u001b[39m data_dir = \u001b[33mr\u001b[39m\u001b[33m\"\u001b[39m\u001b[33mC:\u001b[39m\u001b[33m\\\u001b[39m\u001b[33mSkola\u001b[39m\u001b[33m\\\u001b[39m\u001b[33mD7047e\u001b[39m\u001b[33m\\\u001b[39m\u001b[33mcross_out_dataset\u001b[39m\u001b[33m\"\u001b[39m  \u001b[38;5;66;03m# Update this with your dataset path\u001b[39;00m\n\u001b[32m----> \u001b[39m\u001b[32m3\u001b[39m train_dataset = \u001b[43mHandwritingDataset\u001b[49m\u001b[43m(\u001b[49m\u001b[43mroot\u001b[49m\u001b[43m=\u001b[49m\u001b[33;43mf\u001b[39;49m\u001b[33;43m\"\u001b[39;49m\u001b[38;5;132;43;01m{\u001b[39;49;00m\u001b[43mdata_dir\u001b[49m\u001b[38;5;132;43;01m}\u001b[39;49;00m\u001b[33;43m/train/images\u001b[39;49m\u001b[33;43m\"\u001b[39;49m\u001b[43m,\u001b[49m\u001b[43m \u001b[49m\u001b[43mtransform\u001b[49m\u001b[43m=\u001b[49m\u001b[43mtrain_transform\u001b[49m\u001b[43m)\u001b[49m\n\u001b[32m      4\u001b[39m val_dataset = HandwritingDataset(root=\u001b[33mf\u001b[39m\u001b[33m\"\u001b[39m\u001b[38;5;132;01m{\u001b[39;00mdata_dir\u001b[38;5;132;01m}\u001b[39;00m\u001b[33m/val/images\u001b[39m\u001b[33m\"\u001b[39m, transform=val_transform)\n\u001b[32m      5\u001b[39m test_dataset = HandwritingDataset(root=\u001b[33mf\u001b[39m\u001b[33m\"\u001b[39m\u001b[38;5;132;01m{\u001b[39;00mdata_dir\u001b[38;5;132;01m}\u001b[39;00m\u001b[33m/test/images\u001b[39m\u001b[33m\"\u001b[39m, transform=val_transform)\n",
      "\u001b[36mCell\u001b[39m\u001b[36m \u001b[39m\u001b[32mIn[34]\u001b[39m\u001b[32m, line 27\u001b[39m, in \u001b[36mHandwritingDataset.__init__\u001b[39m\u001b[34m(self, root, transform, max_len)\u001b[39m\n\u001b[32m     25\u001b[39m fpath = os.path.join(class_dir, fname)\n\u001b[32m     26\u001b[39m \u001b[38;5;28;01mtry\u001b[39;00m:\n\u001b[32m---> \u001b[39m\u001b[32m27\u001b[39m     \u001b[38;5;28;01mwith\u001b[39;00m \u001b[43mImage\u001b[49m\u001b[43m.\u001b[49m\u001b[43mopen\u001b[49m\u001b[43m(\u001b[49m\u001b[43mfpath\u001b[49m\u001b[43m)\u001b[49m \u001b[38;5;28;01mas\u001b[39;00m img:\n\u001b[32m     28\u001b[39m         width, height = img.size\n\u001b[32m     29\u001b[39m         \u001b[38;5;66;03m# Check if the image is too small\u001b[39;00m\n",
      "\u001b[36mFile \u001b[39m\u001b[32m~\\AppData\\Local\\Packages\\PythonSoftwareFoundation.Python.3.12_qbz5n2kfra8p0\\LocalCache\\local-packages\\Python312\\site-packages\\PIL\\Image.py:3469\u001b[39m, in \u001b[36mopen\u001b[39m\u001b[34m(fp, mode, formats)\u001b[39m\n\u001b[32m   3466\u001b[39m     filename = os.path.realpath(os.fspath(fp))\n\u001b[32m   3468\u001b[39m \u001b[38;5;28;01mif\u001b[39;00m filename:\n\u001b[32m-> \u001b[39m\u001b[32m3469\u001b[39m     fp = \u001b[43mbuiltins\u001b[49m\u001b[43m.\u001b[49m\u001b[43mopen\u001b[49m\u001b[43m(\u001b[49m\u001b[43mfilename\u001b[49m\u001b[43m,\u001b[49m\u001b[43m \u001b[49m\u001b[33;43m\"\u001b[39;49m\u001b[33;43mrb\u001b[39;49m\u001b[33;43m\"\u001b[39;49m\u001b[43m)\u001b[49m\n\u001b[32m   3470\u001b[39m     exclusive_fp = \u001b[38;5;28;01mTrue\u001b[39;00m\n\u001b[32m   3471\u001b[39m \u001b[38;5;28;01melse\u001b[39;00m:\n",
      "\u001b[31mKeyboardInterrupt\u001b[39m: "
     ]
    }
   ],
   "source": [
    "\n",
    "data_dir = r\"C:\\Skola\\D7047e\\cross_out_dataset\"  # Update this with your dataset path\n",
    "\n",
    "train_dataset = HandwritingDataset(root=f\"{data_dir}/train/images\", transform=train_transform)\n",
    "val_dataset = HandwritingDataset(root=f\"{data_dir}/val/images\", transform=val_transform)\n",
    "test_dataset = HandwritingDataset(root=f\"{data_dir}/test/images\", transform=val_transform)\n",
    "\n",
    "BATCH_SIZE = 64\n",
    "# Create data loaders\n",
    "train_loader = DataLoader(train_dataset, batch_size=BATCH_SIZE, shuffle=True)\n",
    "val_loader = DataLoader(val_dataset, batch_size=BATCH_SIZE, shuffle=False)   \n",
    "test_loader = DataLoader(test_dataset, batch_size=BATCH_SIZE, shuffle=False) \n",
    "\n",
    "print(f\"Train: {len(train_dataset)}, Validation: {len(val_dataset)}, Test: {len(test_dataset)}\")\n"
   ]
  },
  {
   "cell_type": "code",
   "execution_count": null,
   "id": "ca2acda7-0c99-4572-a31b-277cd3193e20",
   "metadata": {},
   "outputs": [
    {
     "data": {
      "text/plain": [
       "'\\nfrom PIL import Image\\n\\nfor root, _, files in os.walk(\"cross_out_dataset/val/images\"):\\n    for file in files:\\n        try:\\n            Image.open(os.path.join(root, file)).verify()\\n        except Exception as e:\\n            print(f\"Corrupted file: {file} - {e}\")\\n'"
      ]
     },
     "execution_count": 37,
     "metadata": {},
     "output_type": "execute_result"
    }
   ],
   "source": [
    "\"\"\"\n",
    "from PIL import Image\n",
    "\n",
    "for root, _, files in os.walk(\"cross_out_dataset/val/images\"):\n",
    "    for file in files:\n",
    "        try:\n",
    "            Image.open(os.path.join(root, file)).verify()\n",
    "        except Exception as e:\n",
    "            print(f\"Corrupted file: {file} - {e}\")\n",
    "\"\"\""
   ]
  },
  {
   "cell_type": "code",
   "execution_count": null,
   "id": "6a065fb3-0d7b-450d-9938-a0375a436389",
   "metadata": {},
   "outputs": [
    {
     "name": "stdout",
     "output_type": "stream",
     "text": [
      "Class to Index Mapping:\n"
     ]
    }
   ],
   "source": [
    "print(\"Class to Index Mapping:\")\n",
    "#print(val_dataset.class_to_idx)\n"
   ]
  },
  {
   "cell_type": "code",
   "execution_count": null,
   "id": "53d9c244-d13d-4f40-9bd6-c00d6177acce",
   "metadata": {},
   "outputs": [
    {
     "name": "stderr",
     "output_type": "stream",
     "text": [
      "\u001b[34m\u001b[1mwandb\u001b[0m: Using wandb-core as the SDK backend.  Please refer to https://wandb.me/wandb-core for more information.\n",
      "\u001b[34m\u001b[1mwandb\u001b[0m: Currently logged in as: \u001b[33moscfah-1\u001b[0m (\u001b[33mertveh-4-lule-university-of-technology\u001b[0m) to \u001b[32mhttps://api.wandb.ai\u001b[0m. Use \u001b[1m`wandb login --relogin`\u001b[0m to force relogin\n"
     ]
    },
    {
     "data": {
      "text/html": [
       "Tracking run with wandb version 0.19.9"
      ],
      "text/plain": [
       "<IPython.core.display.HTML object>"
      ]
     },
     "metadata": {},
     "output_type": "display_data"
    },
    {
     "data": {
      "text/html": [
       "Run data is saved locally in <code>c:\\Skola\\D7047e\\wandb\\run-20250516_154146-n66oo15f</code>"
      ],
      "text/plain": [
       "<IPython.core.display.HTML object>"
      ]
     },
     "metadata": {},
     "output_type": "display_data"
    },
    {
     "data": {
      "text/html": [
       "Syncing run <strong><a href='https://wandb.ai/ertveh-4-lule-university-of-technology/Group_19_lab1/runs/n66oo15f' target=\"_blank\">VANILLA_20x20</a></strong> to <a href='https://wandb.ai/ertveh-4-lule-university-of-technology/Group_19_lab1' target=\"_blank\">Weights & Biases</a> (<a href='https://wandb.me/developer-guide' target=\"_blank\">docs</a>)<br>"
      ],
      "text/plain": [
       "<IPython.core.display.HTML object>"
      ]
     },
     "metadata": {},
     "output_type": "display_data"
    },
    {
     "data": {
      "text/html": [
       " View project at <a href='https://wandb.ai/ertveh-4-lule-university-of-technology/Group_19_lab1' target=\"_blank\">https://wandb.ai/ertveh-4-lule-university-of-technology/Group_19_lab1</a>"
      ],
      "text/plain": [
       "<IPython.core.display.HTML object>"
      ]
     },
     "metadata": {},
     "output_type": "display_data"
    },
    {
     "data": {
      "text/html": [
       " View run at <a href='https://wandb.ai/ertveh-4-lule-university-of-technology/Group_19_lab1/runs/n66oo15f' target=\"_blank\">https://wandb.ai/ertveh-4-lule-university-of-technology/Group_19_lab1/runs/n66oo15f</a>"
      ],
      "text/plain": [
       "<IPython.core.display.HTML object>"
      ]
     },
     "metadata": {},
     "output_type": "display_data"
    },
    {
     "data": {
      "text/html": [
       "<button onClick=\"this.nextSibling.style.display='block';this.style.display='none';\">Display W&B run</button><iframe src='https://wandb.ai/ertveh-4-lule-university-of-technology/Group_19_lab1/runs/n66oo15f?jupyter=true' style='border:none;width:100%;height:420px;display:none;'></iframe>"
      ],
      "text/plain": [
       "<wandb.sdk.wandb_run.Run at 0x1820ac3dd60>"
      ]
     },
     "execution_count": 11,
     "metadata": {},
     "output_type": "execute_result"
    }
   ],
   "source": [
    "import wandb\n",
    "wandb.init(project=\"Group_19_lab1\",name=\"VANILLA_20x20\")\n"
   ]
  },
  {
   "cell_type": "code",
   "execution_count": null,
   "id": "9e294e73-850d-46d6-9daa-b89457cde846",
   "metadata": {},
   "outputs": [
    {
     "name": "stdout",
     "output_type": "stream",
     "text": [
      "992\n",
      "0\n",
      "torch.Size([3, 224, 224])\n"
     ]
    },
    {
     "data": {
      "image/png": "[encoded data removed]",
      "text/plain": [
       "<Figure size 640x480 with 1 Axes>"
      ]
     },
     "metadata": {},
     "output_type": "display_data"
    }
   ],
   "source": [
    "# Access one image and its label from the dataset\n",
    "\n",
    "i = random.randint(0,1000)\n",
    "\n",
    "print(i)\n",
    "image, label = train_dataset[i]  # Get the first image-label pair\n",
    "print(label)\n",
    "print(image.shape)\n",
    "# Denormalize the image for visualization (convert back to [0,1] range)\n",
    "image = image * 0.5 + 0.5  # Reverse normalization\n",
    "\n",
    "# Display the image\n",
    "plt.imshow(image.permute(1, 2, 0))  # Permute tensor dimensions (C, H, W → H, W, C)\n",
    "plt.axis(\"off\")  # Turn off axes for clarity\n",
    "plt.show()"
   ]
  },
  {
   "cell_type": "code",
   "execution_count": null,
   "id": "a18ede89-b062-4631-b97e-afdd939ae049",
   "metadata": {},
   "outputs": [],
   "source": [
    "import torch.nn as nn\n",
    "\n",
    "def replace_all_conv_layers(model, new_kernel_size=(3,7), new_stride=(1,2), new_padding=(1,3)):\n",
    "    for name, module in model.named_children():\n",
    "        # Recursively go inside submodules\n",
    "        if isinstance(module, nn.Conv2d):\n",
    "            # Replace the conv layer with the new one\n",
    "            new_conv = nn.Conv2d(\n",
    "                in_channels=module.in_channels,\n",
    "                out_channels=module.out_channels,\n",
    "                kernel_size=new_kernel_size,\n",
    "                stride=new_stride,\n",
    "                padding=new_padding,\n",
    "                bias=module.bias is not None\n",
    "            )\n",
    "            setattr(model, name, new_conv)\n",
    "        else:\n",
    "            # Recursively apply to child modules\n",
    "            replace_all_conv_layers(module, new_kernel_size, new_stride, new_padding)\n",
    "\n",
    "    return model\n",
    "\n"
   ]
  },
  {
   "cell_type": "code",
   "execution_count": null,
   "id": "b428b350-ef7a-4396-8cbb-a29427d18304",
   "metadata": {},
   "outputs": [
    {
     "name": "stderr",
     "output_type": "stream",
     "text": [
      "C:\\Users\\Oscar\\AppData\\Local\\Packages\\PythonSoftwareFoundation.Python.3.12_qbz5n2kfra8p0\\LocalCache\\local-packages\\Python312\\site-packages\\torchvision\\models\\_utils.py:208: UserWarning: The parameter 'pretrained' is deprecated since 0.13 and may be removed in the future, please use 'weights' instead.\n",
      "  warnings.warn(\n",
      "C:\\Users\\Oscar\\AppData\\Local\\Packages\\PythonSoftwareFoundation.Python.3.12_qbz5n2kfra8p0\\LocalCache\\local-packages\\Python312\\site-packages\\torchvision\\models\\_utils.py:223: UserWarning: Arguments other than a weight enum or `None` for 'weights' are deprecated since 0.13 and may be removed in the future. The current behavior is equivalent to passing `weights=ResNet18_Weights.IMAGENET1K_V1`. You can also use `weights=ResNet18_Weights.DEFAULT` to get the most up-to-date weights.\n",
      "  warnings.warn(msg)\n"
     ]
    }
   ],
   "source": [
    "\n",
    "\n",
    "# Load ResNet18 pretrained model\n",
    "model = models.resnet18(pretrained=True)\n",
    "\n",
    "# Modify the fully connected layer for 8 classes\n",
    "num_classes = 8\n",
    "model.fc = torch.nn.Linear(model.fc.in_features, num_classes)\n",
    "\n",
    "# Check the model architecture\n",
    "\n",
    "# Modify the first convolutional layer to accept single-channel input\n",
    "#model.conv1 = nn.Conv2d(1, 64, kernel_size=7, stride=2, padding=3, bias=False)\n",
    "#model = replace_all_conv_layers(model)\n",
    "##model.conv1 = nn.Conv2d(3, 64, kernel_size=(3,7), stride=(1,2), padding=(1,3), bias=False)\n",
    "#model.maxpool = nn.AvgPool2d(kernel_size=2, stride=2)\n",
    "##model.maxpool = nn.AvgPool2d(2,2)"
   ]
  },
  {
   "cell_type": "code",
   "execution_count": null,
   "id": "bf2d8149-3b6e-481a-8f98-1fd5a92be33b",
   "metadata": {},
   "outputs": [
    {
     "name": "stdout",
     "output_type": "stream",
     "text": [
      "True\n"
     ]
    }
   ],
   "source": [
    "import torch\n",
    "print(torch.cuda.is_available())  # Returns True if a GPU is available\n",
    "# Specify the device (GPU or CPU)\n",
    "device = torch.device(\"cuda\" if torch.cuda.is_available() else \"cpu\")\n",
    "\n",
    "# Move your model to the device\n",
    "model = model.to(device)"
   ]
  },
  {
   "cell_type": "code",
   "execution_count": null,
   "id": "f34df774-6b3c-43c9-8920-afab1eee5e3f",
   "metadata": {},
   "outputs": [],
   "source": [
    "\n",
    "\n",
    "criterion = nn.CrossEntropyLoss()\n",
    "optimizer = optim.AdamW(model.parameters(), lr=1e-4)\n",
    "#optimizer = optim.SGD(model.parameters(), lr=0.001, momentum=0.9)"
   ]
  },
  {
   "cell_type": "code",
   "execution_count": null,
   "id": "5648ce78-4882-4521-855d-ccfaad8e42d9",
   "metadata": {},
   "outputs": [
    {
     "name": "stdout",
     "output_type": "stream",
     "text": [
      "Train samples ran: 64/353862Warning: Skipping file C:\\Skola\\D7047e\\cross_out_dataset/train/images\\CROSS\\r06-062-02-01.png (Image too small)\n",
      "Warning: Skipping file C:\\Skola\\D7047e\\cross_out_dataset/train/images\\SCRATCH\\c03-007e-03-04.png (Image too small)\n",
      "Train samples ran: 704/353862Warning: Skipping file C:\\Skola\\D7047e\\cross_out_dataset/train/images\\DOUBLE_LINE\\g06-047d-02-12.png (Image too small)\n",
      "Warning: Skipping file C:\\Skola\\D7047e\\cross_out_dataset/train/images\\SCRATCH\\r02-109-09-07.png (Image too small)\n",
      "Train samples ran: 1344/353862Warning: Skipping file C:\\Skola\\D7047e\\cross_out_dataset/train/images\\ZIG_ZAG\\a06-075-05-03.png (Image too small)\n",
      "Train samples ran: 1984/353862Warning: Skipping file C:\\Skola\\D7047e\\cross_out_dataset/train/images\\CLEAN\\g06-031j-00-10.png (Image too small)\n",
      "Warning: Skipping file C:\\Skola\\D7047e\\cross_out_dataset/train/images\\SINGLE_LINE\\c03-021a-09-07.png (Image too small)\n",
      "Train samples ran: 2624/353862Warning: Skipping file C:\\Skola\\D7047e\\cross_out_dataset/train/images\\SINGLE_LINE\\c03-081e-05-04.png (Image too small)\n",
      "Warning: Skipping file C:\\Skola\\D7047e\\cross_out_dataset/train/images\\SINGLE_LINE\\f03-182-00-08.png (Image too small)\n",
      "Warning: Skipping file C:\\Skola\\D7047e\\cross_out_dataset/train/images\\DOUBLE_LINE\\e07-086-08-02.png (Image too small)\n",
      "Warning: Skipping file C:\\Skola\\D7047e\\cross_out_dataset/train/images\\ZIG_ZAG\\a06-141-03-10.png (Image too small)\n",
      "Train samples ran: 3264/353862Warning: Skipping file C:\\Skola\\D7047e\\cross_out_dataset/train/images\\DIAGONAL\\a01-053u-06-06.png (Image too small)\n",
      "Warning: Skipping file C:\\Skola\\D7047e\\cross_out_dataset/train/images\\WAVE\\b06-023-05-03.png (Image too small)\n",
      "Warning: Skipping file C:\\Skola\\D7047e\\cross_out_dataset/train/images\\CLEAN\\c04-128-05-06.png (Image too small)\n",
      "Warning: Skipping file C:\\Skola\\D7047e\\cross_out_dataset/train/images\\ZIG_ZAG\\a05-022-02-06.png (Image too small)\n",
      "Warning: Skipping file C:\\Skola\\D7047e\\cross_out_dataset/train/images\\DIAGONAL\\a03-014-04-01.png (Image too small)\n",
      "Warning: Skipping file C:\\Skola\\D7047e\\cross_out_dataset/train/images\\CLEAN\\a03-017-01-02.png (Image too small)\n",
      "Train samples ran: 5184/353862Warning: Skipping file C:\\Skola\\D7047e\\cross_out_dataset/train/images\\CROSS\\r06-027-06-10.png (Image too small)\n",
      "Train samples ran: 5824/353862Warning: Skipping file C:\\Skola\\D7047e\\cross_out_dataset/train/images\\SINGLE_LINE\\a03-040-04-04.png (Image too small)\n",
      "Warning: Skipping file C:\\Skola\\D7047e\\cross_out_dataset/train/images\\SINGLE_LINE\\e07-086-08-02.png (Image too small)\n",
      "Train samples ran: 6464/353862Warning: Skipping file C:\\Skola\\D7047e\\cross_out_dataset/train/images\\ZIG_ZAG\\c03-081e-06-06.png (Image too small)\n",
      "Warning: Skipping file C:\\Skola\\D7047e\\cross_out_dataset/train/images\\WAVE\\b04-147-07-02.png (Image too small)\n",
      "Warning: Skipping file C:\\Skola\\D7047e\\cross_out_dataset/train/images\\CROSS\\r02-109-09-07.png (Image too small)\n",
      "Train samples ran: 7104/353862Warning: Skipping file C:\\Skola\\D7047e\\cross_out_dataset/train/images\\SCRATCH\\a04-092-08-01.png (Image too small)\n",
      "Warning: Skipping file C:\\Skola\\D7047e\\cross_out_dataset/train/images\\SCRATCH\\b01-062-06-05.png (Image too small)\n",
      "Warning: Skipping file C:\\Skola\\D7047e\\cross_out_dataset/train/images\\CROSS\\a03-017-01-02.png (Image too small)\n",
      "Warning: Skipping file C:\\Skola\\D7047e\\cross_out_dataset/train/images\\DOUBLE_LINE\\b06-000-04-10.png (Image too small)\n"
     ]
    },
    {
     "ename": "KeyboardInterrupt",
     "evalue": "",
     "output_type": "error",
     "traceback": [
      "\u001b[31m---------------------------------------------------------------------------\u001b[39m",
      "\u001b[31mKeyboardInterrupt\u001b[39m                         Traceback (most recent call last)",
      "\u001b[36mCell\u001b[39m\u001b[36m \u001b[39m\u001b[32mIn[20]\u001b[39m\u001b[32m, line 17\u001b[39m\n\u001b[32m     15\u001b[39m batch_id = \u001b[32m0\u001b[39m\n\u001b[32m     16\u001b[39m best_val_loss = \u001b[32m100000\u001b[39m\n\u001b[32m---> \u001b[39m\u001b[32m17\u001b[39m \u001b[43m\u001b[49m\u001b[38;5;28;43;01mfor\u001b[39;49;00m\u001b[43m \u001b[49m\u001b[43mbatch\u001b[49m\u001b[43m \u001b[49m\u001b[38;5;129;43;01min\u001b[39;49;00m\u001b[43m \u001b[49m\u001b[43mtrain_loader\u001b[49m\u001b[43m:\u001b[49m\n\u001b[32m     20\u001b[39m \u001b[43m    \u001b[49m\u001b[43minp\u001b[49m\u001b[43m \u001b[49m\u001b[43m=\u001b[49m\u001b[43m \u001b[49m\u001b[43mbatch\u001b[49m\u001b[43m[\u001b[49m\u001b[32;43m0\u001b[39;49m\u001b[43m]\u001b[49m\u001b[43m.\u001b[49m\u001b[43mto\u001b[49m\u001b[43m(\u001b[49m\u001b[43mdevice\u001b[49m\u001b[43m)\u001b[49m\n\u001b[32m     21\u001b[39m \u001b[43m    \u001b[49m\u001b[43mlabel\u001b[49m\u001b[43m \u001b[49m\u001b[43m=\u001b[49m\u001b[43m \u001b[49m\u001b[43mbatch\u001b[49m\u001b[43m[\u001b[49m\u001b[32;43m1\u001b[39;49m\u001b[43m]\u001b[49m\u001b[43m.\u001b[49m\u001b[43mto\u001b[49m\u001b[43m(\u001b[49m\u001b[43mdevice\u001b[49m\u001b[43m)\u001b[49m\n",
      "\u001b[36mFile \u001b[39m\u001b[32m~\\AppData\\Local\\Packages\\PythonSoftwareFoundation.Python.3.12_qbz5n2kfra8p0\\LocalCache\\local-packages\\Python312\\site-packages\\torch\\utils\\data\\dataloader.py:708\u001b[39m, in \u001b[36m_BaseDataLoaderIter.__next__\u001b[39m\u001b[34m(self)\u001b[39m\n\u001b[32m    705\u001b[39m \u001b[38;5;28;01mif\u001b[39;00m \u001b[38;5;28mself\u001b[39m._sampler_iter \u001b[38;5;129;01mis\u001b[39;00m \u001b[38;5;28;01mNone\u001b[39;00m:\n\u001b[32m    706\u001b[39m     \u001b[38;5;66;03m# TODO(https://github.com/pytorch/pytorch/issues/76750)\u001b[39;00m\n\u001b[32m    707\u001b[39m     \u001b[38;5;28mself\u001b[39m._reset()  \u001b[38;5;66;03m# type: ignore[call-arg]\u001b[39;00m\n\u001b[32m--> \u001b[39m\u001b[32m708\u001b[39m data = \u001b[38;5;28;43mself\u001b[39;49m\u001b[43m.\u001b[49m\u001b[43m_next_data\u001b[49m\u001b[43m(\u001b[49m\u001b[43m)\u001b[49m\n\u001b[32m    709\u001b[39m \u001b[38;5;28mself\u001b[39m._num_yielded += \u001b[32m1\u001b[39m\n\u001b[32m    710\u001b[39m \u001b[38;5;28;01mif\u001b[39;00m (\n\u001b[32m    711\u001b[39m     \u001b[38;5;28mself\u001b[39m._dataset_kind == _DatasetKind.Iterable\n\u001b[32m    712\u001b[39m     \u001b[38;5;129;01mand\u001b[39;00m \u001b[38;5;28mself\u001b[39m._IterableDataset_len_called \u001b[38;5;129;01mis\u001b[39;00m \u001b[38;5;129;01mnot\u001b[39;00m \u001b[38;5;28;01mNone\u001b[39;00m\n\u001b[32m    713\u001b[39m     \u001b[38;5;129;01mand\u001b[39;00m \u001b[38;5;28mself\u001b[39m._num_yielded > \u001b[38;5;28mself\u001b[39m._IterableDataset_len_called\n\u001b[32m    714\u001b[39m ):\n",
      "\u001b[36mFile \u001b[39m\u001b[32m~\\AppData\\Local\\Packages\\PythonSoftwareFoundation.Python.3.12_qbz5n2kfra8p0\\LocalCache\\local-packages\\Python312\\site-packages\\torch\\utils\\data\\dataloader.py:764\u001b[39m, in \u001b[36m_SingleProcessDataLoaderIter._next_data\u001b[39m\u001b[34m(self)\u001b[39m\n\u001b[32m    762\u001b[39m \u001b[38;5;28;01mdef\u001b[39;00m\u001b[38;5;250m \u001b[39m\u001b[34m_next_data\u001b[39m(\u001b[38;5;28mself\u001b[39m):\n\u001b[32m    763\u001b[39m     index = \u001b[38;5;28mself\u001b[39m._next_index()  \u001b[38;5;66;03m# may raise StopIteration\u001b[39;00m\n\u001b[32m--> \u001b[39m\u001b[32m764\u001b[39m     data = \u001b[38;5;28;43mself\u001b[39;49m\u001b[43m.\u001b[49m\u001b[43m_dataset_fetcher\u001b[49m\u001b[43m.\u001b[49m\u001b[43mfetch\u001b[49m\u001b[43m(\u001b[49m\u001b[43mindex\u001b[49m\u001b[43m)\u001b[49m  \u001b[38;5;66;03m# may raise StopIteration\u001b[39;00m\n\u001b[32m    765\u001b[39m     \u001b[38;5;28;01mif\u001b[39;00m \u001b[38;5;28mself\u001b[39m._pin_memory:\n\u001b[32m    766\u001b[39m         data = _utils.pin_memory.pin_memory(data, \u001b[38;5;28mself\u001b[39m._pin_memory_device)\n",
      "\u001b[36mFile \u001b[39m\u001b[32m~\\AppData\\Local\\Packages\\PythonSoftwareFoundation.Python.3.12_qbz5n2kfra8p0\\LocalCache\\local-packages\\Python312\\site-packages\\torch\\utils\\data\\_utils\\fetch.py:52\u001b[39m, in \u001b[36m_MapDatasetFetcher.fetch\u001b[39m\u001b[34m(self, possibly_batched_index)\u001b[39m\n\u001b[32m     50\u001b[39m         data = \u001b[38;5;28mself\u001b[39m.dataset.__getitems__(possibly_batched_index)\n\u001b[32m     51\u001b[39m     \u001b[38;5;28;01melse\u001b[39;00m:\n\u001b[32m---> \u001b[39m\u001b[32m52\u001b[39m         data = [\u001b[38;5;28;43mself\u001b[39;49m\u001b[43m.\u001b[49m\u001b[43mdataset\u001b[49m\u001b[43m[\u001b[49m\u001b[43midx\u001b[49m\u001b[43m]\u001b[49m \u001b[38;5;28;01mfor\u001b[39;00m idx \u001b[38;5;129;01min\u001b[39;00m possibly_batched_index]\n\u001b[32m     53\u001b[39m \u001b[38;5;28;01melse\u001b[39;00m:\n\u001b[32m     54\u001b[39m     data = \u001b[38;5;28mself\u001b[39m.dataset[possibly_batched_index]\n",
      "\u001b[36mCell\u001b[39m\u001b[36m \u001b[39m\u001b[32mIn[19]\u001b[39m\u001b[32m, line 41\u001b[39m, in \u001b[36mHandwritingDataset.__getitem__\u001b[39m\u001b[34m(self, idx)\u001b[39m\n\u001b[32m     39\u001b[39m img_path, label = \u001b[38;5;28mself\u001b[39m.samples[idx]\n\u001b[32m     40\u001b[39m \u001b[38;5;28;01mtry\u001b[39;00m:\n\u001b[32m---> \u001b[39m\u001b[32m41\u001b[39m     image = \u001b[43mImage\u001b[49m\u001b[43m.\u001b[49m\u001b[43mopen\u001b[49m\u001b[43m(\u001b[49m\u001b[43mimg_path\u001b[49m\u001b[43m)\u001b[49m.convert(\u001b[33m'\u001b[39m\u001b[33mRGB\u001b[39m\u001b[33m'\u001b[39m)\n\u001b[32m     42\u001b[39m     \u001b[38;5;28;01mif\u001b[39;00m \u001b[38;5;28mmin\u001b[39m(image.size) <= \u001b[38;5;28mself\u001b[39m.max_len:\n\u001b[32m     43\u001b[39m         \u001b[38;5;28;01mraise\u001b[39;00m \u001b[38;5;167;01mValueError\u001b[39;00m(\u001b[33m\"\u001b[39m\u001b[33mImage too small\u001b[39m\u001b[33m\"\u001b[39m)\n",
      "\u001b[36mFile \u001b[39m\u001b[32m~\\AppData\\Local\\Packages\\PythonSoftwareFoundation.Python.3.12_qbz5n2kfra8p0\\LocalCache\\local-packages\\Python312\\site-packages\\PIL\\Image.py:3466\u001b[39m, in \u001b[36mopen\u001b[39m\u001b[34m(fp, mode, formats)\u001b[39m\n\u001b[32m   3464\u001b[39m filename: \u001b[38;5;28mstr\u001b[39m | \u001b[38;5;28mbytes\u001b[39m = \u001b[33m\"\u001b[39m\u001b[33m\"\u001b[39m\n\u001b[32m   3465\u001b[39m \u001b[38;5;28;01mif\u001b[39;00m is_path(fp):\n\u001b[32m-> \u001b[39m\u001b[32m3466\u001b[39m     filename = \u001b[43mos\u001b[49m\u001b[43m.\u001b[49m\u001b[43mpath\u001b[49m\u001b[43m.\u001b[49m\u001b[43mrealpath\u001b[49m\u001b[43m(\u001b[49m\u001b[43mos\u001b[49m\u001b[43m.\u001b[49m\u001b[43mfspath\u001b[49m\u001b[43m(\u001b[49m\u001b[43mfp\u001b[49m\u001b[43m)\u001b[49m\u001b[43m)\u001b[49m\n\u001b[32m   3468\u001b[39m \u001b[38;5;28;01mif\u001b[39;00m filename:\n\u001b[32m   3469\u001b[39m     fp = builtins.open(filename, \u001b[33m\"\u001b[39m\u001b[33mrb\u001b[39m\u001b[33m\"\u001b[39m)\n",
      "\u001b[36mFile \u001b[39m\u001b[32m<frozen ntpath>:727\u001b[39m, in \u001b[36mrealpath\u001b[39m\u001b[34m(path, strict)\u001b[39m\n",
      "\u001b[31mKeyboardInterrupt\u001b[39m: "
     ]
    }
   ],
   "source": [
    "epochs = 10\n",
    "\"\"\"scheduler = torch.optim.lr_scheduler.OneCycleLR(\n",
    "    optimizer, \n",
    "    max_lr=1e-3,\n",
    "    steps_per_epoch=len(train_loader),\n",
    "    epochs=epochs\n",
    ")\"\"\"\n",
    "\n",
    "\n",
    "for epoch in range(epochs):\n",
    "    tot_train_loss = 0\n",
    "    tot_val_loss = 0\n",
    "    total_samples = 0\n",
    "    model.train()\n",
    "    batch_id = 0\n",
    "    best_val_loss = 100000\n",
    "    for batch in train_loader:\n",
    "        \n",
    "\n",
    "        inp = batch[0].to(device)\n",
    "        label = batch[1].to(device)\n",
    "        output = model(inp)\n",
    "\n",
    "        loss = criterion(output,label)\n",
    "        tot_train_loss += loss.item()\n",
    "        \n",
    "        optimizer.zero_grad()\n",
    "        loss.backward()\n",
    "\n",
    "        optimizer.step()\n",
    "        #scheduler.step()\n",
    "        total_samples += inp.size(0)\n",
    "        if batch_id%10 == 0:\n",
    "            print(f\"\\rTrain samples ran: {total_samples}/{len(train_dataset)}\",end=\"\",flush=True)\n",
    "        batch_id += 1\n",
    "    model.eval()\n",
    "    total_samples = 0\n",
    "    batch_id = 0\n",
    "    for batch in val_loader:\n",
    "        optimizer.zero_grad()\n",
    "\n",
    "        inp = batch[0].to(device)\n",
    "        label = batch[1].to(device)\n",
    "        output = model(inp)\n",
    "\n",
    "        loss = criterion(output,label)\n",
    "        tot_val_loss += loss.item()\n",
    "        \n",
    "    avg_train_loss = tot_train_loss/len(train_loader)\n",
    "    avg_val_loss = tot_val_loss/len(val_loader)\n",
    "    print(\"Epoch: \",epoch,\"Train loss: \",avg_train_loss,\"Val loss: \",avg_val_loss)\n",
    "    if avg_val_loss < best_val_loss:\n",
    "        best_model = model\n",
    "        best_val_loss = avg_val_loss\n",
    "    print()\n",
    "    current_lr = optimizer.param_groups[0]['lr']\n",
    "    print(\"Current lr: \", current_lr)\n",
    "    wandb.log({\n",
    "        \"train_loss\":avg_train_loss,\n",
    "        \"val_loss\":avg_val_loss,\n",
    "        \"lr\": current_lr\n",
    "    })\n",
    "    torch.cuda.empty_cache()"
   ]
  },
  {
   "cell_type": "code",
   "execution_count": null,
   "id": "a3eecc92-268b-4d87-8b81-e063c3f77c82",
   "metadata": {},
   "outputs": [
    {
     "data": {
      "text/html": [],
      "text/plain": [
       "<IPython.core.display.HTML object>"
      ]
     },
     "metadata": {},
     "output_type": "display_data"
    },
    {
     "data": {
      "text/html": [
       "<br>    <style><br>        .wandb-row {<br>            display: flex;<br>            flex-direction: row;<br>            flex-wrap: wrap;<br>            justify-content: flex-start;<br>            width: 100%;<br>        }<br>        .wandb-col {<br>            display: flex;<br>            flex-direction: column;<br>            flex-basis: 100%;<br>            flex: 1;<br>            padding: 10px;<br>        }<br>    </style><br><div class=\"wandb-row\"><div class=\"wandb-col\"><h3>Run history:</h3><br/><table class=\"wandb\"><tr><td>lr</td><td>▁▁▁▁▁▁▁▁▁▁▁</td></tr><tr><td>train_loss</td><td>█▃▂▂▂▁▁▁▁▁▁</td></tr><tr><td>val_loss</td><td>▃▂▄▂█▂▂▁▂▁▂</td></tr></table><br/></div><div class=\"wandb-col\"><h3>Run summary:</h3><br/><table class=\"wandb\"><tr><td>lr</td><td>0.0001</td></tr><tr><td>train_loss</td><td>0.00482</td></tr><tr><td>val_loss</td><td>0.01769</td></tr></table><br/></div></div>"
      ],
      "text/plain": [
       "<IPython.core.display.HTML object>"
      ]
     },
     "metadata": {},
     "output_type": "display_data"
    },
    {
     "data": {
      "text/html": [
       " View run <strong style=\"color:#cdcd00\">VANILLA_PURGED_DATA</strong> at: <a href='https://wandb.ai/ertveh-4-lule-university-of-technology/Group_19_lab1/runs/3ij8hdwa' target=\"_blank\">https://wandb.ai/ertveh-4-lule-university-of-technology/Group_19_lab1/runs/3ij8hdwa</a><br> View project at: <a href='https://wandb.ai/ertveh-4-lule-university-of-technology/Group_19_lab1' target=\"_blank\">https://wandb.ai/ertveh-4-lule-university-of-technology/Group_19_lab1</a><br>Synced 5 W&B file(s), 0 media file(s), 0 artifact file(s) and 0 other file(s)"
      ],
      "text/plain": [
       "<IPython.core.display.HTML object>"
      ]
     },
     "metadata": {},
     "output_type": "display_data"
    },
    {
     "data": {
      "text/html": [
       "Find logs at: <code>.\\wandb\\run-20250515_164504-3ij8hdwa\\logs</code>"
      ],
      "text/plain": [
       "<IPython.core.display.HTML object>"
      ]
     },
     "metadata": {},
     "output_type": "display_data"
    }
   ],
   "source": [
    "Current_model = \"VANILLA_PURGED_DATA_CONV2D.pth\"\n",
    "torch.save(best_model, Current_model)\n",
    "wandb.finish()"
   ]
  },
  {
   "cell_type": "code",
   "execution_count": null,
   "id": "5083afce-43ce-4368-a02c-7a17bad5df93",
   "metadata": {},
   "outputs": [],
   "source": [
    "import torch\n",
    "Current_model = \"VANILLA_PURGED_DATA.pth\"\n",
    "model = torch.load(Current_model,weights_only=False)"
   ]
  },
  {
   "cell_type": "code",
   "execution_count": null,
   "id": "330f40e9-8351-48c2-abb1-a060d0bf3fd2",
   "metadata": {},
   "outputs": [
    {
     "name": "stdout",
     "output_type": "stream",
     "text": [
      "41050\n",
      "4420\n",
      "1000\n",
      "2000\n",
      "3000\n",
      "4000\n",
      "5000\n",
      "6000\n",
      "7000\n",
      "8000\n",
      "9000\n",
      "10000\n",
      "11000\n",
      "12000\n",
      "13000\n",
      "14000\n",
      "15000\n",
      "16000\n",
      "17000\n",
      "18000\n",
      "19000\n",
      "20000\n",
      "21000\n",
      "22000\n",
      "23000\n",
      "24000\n",
      "25000\n",
      "26000\n",
      "27000\n",
      "28000\n",
      "29000\n",
      "30000\n",
      "31000\n",
      "32000\n",
      "33000\n",
      "34000\n",
      "35000\n",
      "36000\n",
      "37000\n",
      "38000\n",
      "39000\n",
      "40000\n",
      "41000\n",
      "Acc:  0.9955907429963459\n",
      "Loss:  0.0\n"
     ]
    }
   ],
   "source": [
    "\n",
    "total = 0\n",
    "correct = 0\n",
    "wrong_guess = []\n",
    "missed_image = []\n",
    "for i in range(8):\n",
    "    wrong_guess.append([])\n",
    "    missed_image.append([])\n",
    "\n",
    "model.eval()\n",
    "print(len(val_dataset))\n",
    "print(len(train_loader))\n",
    "tot_val_loss = 0\n",
    "with torch.no_grad():\n",
    "    for batch in val_loader:\n",
    "        input_ids = batch[0].to(device)           # Move input_ids to GPU/CPU     \n",
    "        labels = batch[1].to(device)              # Move labels to GPU/CPU\n",
    "        output = model(input_ids)\n",
    "        loss = criterion(output,labels)\n",
    "        #tot_val_loss += loss.item()\n",
    "        for i in range(len(output)):\n",
    "            o = torch.argmax(output[i]).item()\n",
    "            label = labels[i].item()\n",
    "            total += 1\n",
    "            if total % 1000 == 0:\n",
    "                print(total)\n",
    "            if  o == label:\n",
    "                correct += 1\n",
    "            else:\n",
    "                pass\n",
    "                #missed_image[label].append(input_ids[i].cpu().tolist())\n",
    "                #wrong_guess[label].append(o)\n",
    "print(\"Acc: \",correct/total)\n",
    "print(\"Loss: \",tot_val_loss/len(val_loader))"
   ]
  },
  {
   "cell_type": "code",
   "execution_count": null,
   "id": "5bba44bb-c6ba-425b-9479-9086b9371e53",
   "metadata": {},
   "outputs": [
    {
     "name": "stderr",
     "output_type": "stream",
     "text": [
      "Clipping input data to the valid range for imshow with RGB data ([0..1] for floats or [0..255] for integers). Got range [-1.0..1.0].\n",
      "Clipping input data to the valid range for imshow with RGB data ([0..1] for floats or [0..255] for integers). Got range [-1.0..1.0].\n"
     ]
    },
    {
     "data": {
      "image/png": "[encoded data removed]",
      "text/plain": [
       "<Figure size 1600x800 with 2 Axes>"
      ]
     },
     "metadata": {},
     "output_type": "display_data"
    },
    {
     "name": "stdout",
     "output_type": "stream",
     "text": [
      "0\n",
      "0\n",
      "0\n",
      "0\n",
      "0\n",
      "0\n",
      "4\n",
      "3\n"
     ]
    }
   ],
   "source": [
    "import matplotlib.pyplot as plt\n",
    "import random\n",
    "\n",
    "# Example: image_lists = [[img1_class0, img2_class0, ...], [img1_class1, img2_class1, ...], ...]\n",
    "\n",
    "import numpy as np\n",
    "\n",
    "def plot_random_images(image_lists, class_labels):\n",
    "    num_classes = len(image_lists)\n",
    "    cols = 4  # number of columns\n",
    "    rows = (num_classes + cols - 1) // cols  # calculate rows\n",
    "\n",
    "    plt.figure(figsize=(4 * cols, 4 * rows))\n",
    "    \n",
    "    for i, (images, label) in enumerate(zip(image_lists, class_labels)):\n",
    "        if len(images)>0:\n",
    "            random_image = random.choice(images)\n",
    "            random_image = np.array(random_image)\n",
    "        # If image is a tensor, move to CPU and convert to numpy\n",
    "            if hasattr(random_image, 'cpu'):\n",
    "                random_image = random_image.cpu().numpy()\n",
    "                \n",
    "            \n",
    "            # If image has shape (C, H, W), transpose to (H, W, C)\n",
    "            if random_image.ndim == 3 and random_image.shape[0] in [1, 3]:\n",
    "                random_image = np.transpose(random_image, (1, 2, 0))\n",
    "            \n",
    "            plt.subplot(rows, cols, i + 1)\n",
    "            if random_image.ndim == 2 or random_image.shape[2] == 1:\n",
    "                plt.imshow(random_image.squeeze(), cmap='gray')\n",
    "            else:\n",
    "                plt.imshow(random_image)\n",
    "            plt.title(f\"True label: {label} \\n Guessed label:  \")\n",
    "            plt.axis('off')\n",
    "    \n",
    "    plt.tight_layout()\n",
    "    plt.show()\n",
    "\n",
    "classes = [\"CLEAN\",\"CROSS\",\"DIAGONAL\",\"DOUBLE_LINE\",\"SCRATCH\",\"SINGLE_LINE\",\"WAVE\",\"ZIG_ZAG\"]\n",
    "# Example call:\n",
    "plot_random_images(missed_image, classes)\n",
    "\n",
    "for i in range(len(wrong_guess)):\n",
    "    print(len(wrong_guess[i]))\n",
    "\n"
   ]
  },
  {
   "cell_type": "code",
   "execution_count": null,
   "id": "c5fc9e66-0440-4f2b-9907-ac398a36b146",
   "metadata": {},
   "outputs": [],
   "source": []
  },
  {
   "cell_type": "code",
   "execution_count": null,
   "id": "da61dbdd-f10a-4506-a3e2-0cc39f2ff582",
   "metadata": {},
   "outputs": [],
   "source": []
  }
 ],
 "metadata": {
  "kernelspec": {
   "display_name": "Python 3",
   "language": "python",
   "name": "python3"
  },
  "language_info": {
   "codemirror_mode": {
    "name": "ipython",
    "version": 3
   },
   "file_extension": ".py",
   "mimetype": "text/x-python",
   "name": "python",
   "nbconvert_exporter": "python",
   "pygments_lexer": "ipython3",
   "version": "3.12.10"
  }
 },
 "nbformat": 4,
 "nbformat_minor": 5
}
